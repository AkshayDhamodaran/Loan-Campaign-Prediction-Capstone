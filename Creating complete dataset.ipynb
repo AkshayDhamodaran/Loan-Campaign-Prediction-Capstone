{
 "cells": [
  {
   "cell_type": "code",
   "execution_count": 1,
   "id": "7d5fd405",
   "metadata": {},
   "outputs": [],
   "source": [
    "import numpy as np\n",
    "import pandas as pd"
   ]
  },
  {
   "cell_type": "code",
   "execution_count": 2,
   "id": "83e63632",
   "metadata": {},
   "outputs": [],
   "source": [
    "customerAndBank = pd.read_csv(r\"C:\\Users\\akshayd6\\Desktop\\MyModels\\Loan Default Prediction Capstone\\Data\\Customer and bank.csv\",index_col = 'Customer_id')\n",
    "customerSocialEconomic = pd.read_csv(r\"C:\\Users\\akshayd6\\Desktop\\MyModels\\Loan Default Prediction Capstone\\Data\\Customer_social_economic_data_p1.csv\",index_col = 'Customer_id')\n",
    "customerCampaign = pd.read_csv(r\"C:\\Users\\akshayd6\\Desktop\\MyModels\\Loan Default Prediction Capstone\\Data\\Customer campaign details.csv\",index_col = 'Customer_id')\n",
    "customerResponse = pd.read_csv(r\"C:\\Users\\akshayd6\\Desktop\\MyModels\\Loan Default Prediction Capstone\\Data\\Customer_Response_data_p1.csv\",index_col = 'Customer_id')\n",
    "customerPostalCode = pd.read_csv(r\"C:\\Users\\akshayd6\\Desktop\\MyModels\\Loan Default Prediction Capstone\\Data\\Customer_Postal_Code_details.csv\",index_col = 'Customer_id')\n",
    "region = pd.read_csv(r\"C:\\Users\\akshayd6\\Desktop\\MyModels\\Loan Default Prediction Capstone\\Data\\Region_code_master.csv\")\n",
    "state = pd.read_csv(r\"C:\\Users\\akshayd6\\Desktop\\MyModels\\Loan Default Prediction Capstone\\Data\\State_Master.csv\")\n",
    "city = pd.read_csv(r\"C:\\Users\\akshayd6\\Desktop\\MyModels\\Loan Default Prediction Capstone\\Data\\City_Master.csv\")"
   ]
  },
  {
   "cell_type": "code",
   "execution_count": 3,
   "id": "8f124752",
   "metadata": {},
   "outputs": [],
   "source": [
    "#code to display all columns of dataset\n",
    "pd.set_option('display.max_columns', None)\n",
    "pd.set_option('display.width', None)\n",
    "pd.set_option('display.max_colwidth', None)"
   ]
  },
  {
   "cell_type": "code",
   "execution_count": 4,
   "id": "e39ddd3a",
   "metadata": {},
   "outputs": [
    {
     "data": {
      "text/html": [
       "<div>\n",
       "<style scoped>\n",
       "    .dataframe tbody tr th:only-of-type {\n",
       "        vertical-align: middle;\n",
       "    }\n",
       "\n",
       "    .dataframe tbody tr th {\n",
       "        vertical-align: top;\n",
       "    }\n",
       "\n",
       "    .dataframe thead th {\n",
       "        text-align: right;\n",
       "    }\n",
       "</style>\n",
       "<table border=\"1\" class=\"dataframe\">\n",
       "  <thead>\n",
       "    <tr style=\"text-align: right;\">\n",
       "      <th></th>\n",
       "      <th>age</th>\n",
       "      <th>job</th>\n",
       "      <th>marital</th>\n",
       "      <th>education</th>\n",
       "      <th>default</th>\n",
       "      <th>housing</th>\n",
       "      <th>loan</th>\n",
       "      <th>Region_Code</th>\n",
       "      <th>State_Code</th>\n",
       "      <th>City_Code</th>\n",
       "    </tr>\n",
       "    <tr>\n",
       "      <th>Customer_id</th>\n",
       "      <th></th>\n",
       "      <th></th>\n",
       "      <th></th>\n",
       "      <th></th>\n",
       "      <th></th>\n",
       "      <th></th>\n",
       "      <th></th>\n",
       "      <th></th>\n",
       "      <th></th>\n",
       "      <th></th>\n",
       "    </tr>\n",
       "  </thead>\n",
       "  <tbody>\n",
       "    <tr>\n",
       "      <th>1</th>\n",
       "      <td>56</td>\n",
       "      <td>services</td>\n",
       "      <td>married</td>\n",
       "      <td>high school</td>\n",
       "      <td>no</td>\n",
       "      <td>no</td>\n",
       "      <td>yes</td>\n",
       "      <td>3</td>\n",
       "      <td>S1</td>\n",
       "      <td>C1</td>\n",
       "    </tr>\n",
       "    <tr>\n",
       "      <th>2</th>\n",
       "      <td>45</td>\n",
       "      <td>services</td>\n",
       "      <td>married</td>\n",
       "      <td>basic 9y</td>\n",
       "      <td>unknown</td>\n",
       "      <td>no</td>\n",
       "      <td>no</td>\n",
       "      <td>3</td>\n",
       "      <td>S1</td>\n",
       "      <td>C1</td>\n",
       "    </tr>\n",
       "    <tr>\n",
       "      <th>3</th>\n",
       "      <td>59</td>\n",
       "      <td>admin</td>\n",
       "      <td>married</td>\n",
       "      <td>professional course</td>\n",
       "      <td>no</td>\n",
       "      <td>no</td>\n",
       "      <td>no</td>\n",
       "      <td>4</td>\n",
       "      <td>S2</td>\n",
       "      <td>C2</td>\n",
       "    </tr>\n",
       "    <tr>\n",
       "      <th>4</th>\n",
       "      <td>41</td>\n",
       "      <td>blue collar</td>\n",
       "      <td>married</td>\n",
       "      <td>unknown</td>\n",
       "      <td>unknown</td>\n",
       "      <td>no</td>\n",
       "      <td>no</td>\n",
       "      <td>3</td>\n",
       "      <td>S3</td>\n",
       "      <td>C3</td>\n",
       "    </tr>\n",
       "    <tr>\n",
       "      <th>5</th>\n",
       "      <td>24</td>\n",
       "      <td>technician</td>\n",
       "      <td>single</td>\n",
       "      <td>professional course</td>\n",
       "      <td>no</td>\n",
       "      <td>yes</td>\n",
       "      <td>no</td>\n",
       "      <td>3</td>\n",
       "      <td>S3</td>\n",
       "      <td>C3</td>\n",
       "    </tr>\n",
       "  </tbody>\n",
       "</table>\n",
       "</div>"
      ],
      "text/plain": [
       "             age          job  marital            education  default housing  \\\n",
       "Customer_id                                                                    \n",
       "1             56     services  married          high school       no      no   \n",
       "2             45     services  married            basic 9y   unknown      no   \n",
       "3             59        admin  married  professional course       no      no   \n",
       "4             41  blue collar  married              unknown  unknown      no   \n",
       "5             24   technician   single  professional course       no     yes   \n",
       "\n",
       "            loan Region_Code State_Code City_Code  \n",
       "Customer_id                                        \n",
       "1            yes           3         S1        C1  \n",
       "2             no           3         S1        C1  \n",
       "3             no           4         S2        C2  \n",
       "4             no           3         S3        C3  \n",
       "5             no           3         S3        C3  "
      ]
     },
     "execution_count": 4,
     "metadata": {},
     "output_type": "execute_result"
    }
   ],
   "source": [
    "customerAndBank.head()"
   ]
  },
  {
   "cell_type": "code",
   "execution_count": 5,
   "id": "4cc219dd",
   "metadata": {},
   "outputs": [
    {
     "data": {
      "text/html": [
       "<div>\n",
       "<style scoped>\n",
       "    .dataframe tbody tr th:only-of-type {\n",
       "        vertical-align: middle;\n",
       "    }\n",
       "\n",
       "    .dataframe tbody tr th {\n",
       "        vertical-align: top;\n",
       "    }\n",
       "\n",
       "    .dataframe thead th {\n",
       "        text-align: right;\n",
       "    }\n",
       "</style>\n",
       "<table border=\"1\" class=\"dataframe\">\n",
       "  <thead>\n",
       "    <tr style=\"text-align: right;\">\n",
       "      <th></th>\n",
       "      <th>emp.var.rate</th>\n",
       "      <th>cons.price.idx</th>\n",
       "      <th>cons.conf.idx</th>\n",
       "      <th>euribor3m</th>\n",
       "      <th>nr.employed</th>\n",
       "    </tr>\n",
       "    <tr>\n",
       "      <th>Customer_id</th>\n",
       "      <th></th>\n",
       "      <th></th>\n",
       "      <th></th>\n",
       "      <th></th>\n",
       "      <th></th>\n",
       "    </tr>\n",
       "  </thead>\n",
       "  <tbody>\n",
       "    <tr>\n",
       "      <th>1</th>\n",
       "      <td>1.1</td>\n",
       "      <td>93.994</td>\n",
       "      <td>-36.4</td>\n",
       "      <td>4.857</td>\n",
       "      <td>5191.0</td>\n",
       "    </tr>\n",
       "    <tr>\n",
       "      <th>2</th>\n",
       "      <td>1.1</td>\n",
       "      <td>93.994</td>\n",
       "      <td>-36.4</td>\n",
       "      <td>4.857</td>\n",
       "      <td>5191.0</td>\n",
       "    </tr>\n",
       "    <tr>\n",
       "      <th>3</th>\n",
       "      <td>1.1</td>\n",
       "      <td>93.994</td>\n",
       "      <td>-36.4</td>\n",
       "      <td>4.857</td>\n",
       "      <td>5191.0</td>\n",
       "    </tr>\n",
       "    <tr>\n",
       "      <th>4</th>\n",
       "      <td>1.1</td>\n",
       "      <td>93.994</td>\n",
       "      <td>-36.4</td>\n",
       "      <td>4.857</td>\n",
       "      <td>5191.0</td>\n",
       "    </tr>\n",
       "    <tr>\n",
       "      <th>5</th>\n",
       "      <td>1.1</td>\n",
       "      <td>93.994</td>\n",
       "      <td>-36.4</td>\n",
       "      <td>4.857</td>\n",
       "      <td>5191.0</td>\n",
       "    </tr>\n",
       "  </tbody>\n",
       "</table>\n",
       "</div>"
      ],
      "text/plain": [
       "             emp.var.rate  cons.price.idx  cons.conf.idx  euribor3m  \\\n",
       "Customer_id                                                           \n",
       "1                     1.1          93.994          -36.4      4.857   \n",
       "2                     1.1          93.994          -36.4      4.857   \n",
       "3                     1.1          93.994          -36.4      4.857   \n",
       "4                     1.1          93.994          -36.4      4.857   \n",
       "5                     1.1          93.994          -36.4      4.857   \n",
       "\n",
       "             nr.employed  \n",
       "Customer_id               \n",
       "1                 5191.0  \n",
       "2                 5191.0  \n",
       "3                 5191.0  \n",
       "4                 5191.0  \n",
       "5                 5191.0  "
      ]
     },
     "execution_count": 5,
     "metadata": {},
     "output_type": "execute_result"
    }
   ],
   "source": [
    "customerSocialEconomic.head()"
   ]
  },
  {
   "cell_type": "code",
   "execution_count": 6,
   "id": "bb914be9",
   "metadata": {},
   "outputs": [
    {
     "data": {
      "text/html": [
       "<div>\n",
       "<style scoped>\n",
       "    .dataframe tbody tr th:only-of-type {\n",
       "        vertical-align: middle;\n",
       "    }\n",
       "\n",
       "    .dataframe tbody tr th {\n",
       "        vertical-align: top;\n",
       "    }\n",
       "\n",
       "    .dataframe thead th {\n",
       "        text-align: right;\n",
       "    }\n",
       "</style>\n",
       "<table border=\"1\" class=\"dataframe\">\n",
       "  <thead>\n",
       "    <tr style=\"text-align: right;\">\n",
       "      <th></th>\n",
       "      <th>contact</th>\n",
       "      <th>Campaign_month</th>\n",
       "      <th>day_of_week</th>\n",
       "      <th>duration</th>\n",
       "      <th>campaign</th>\n",
       "      <th>pdays</th>\n",
       "      <th>previous</th>\n",
       "      <th>poutcome</th>\n",
       "    </tr>\n",
       "    <tr>\n",
       "      <th>Customer_id</th>\n",
       "      <th></th>\n",
       "      <th></th>\n",
       "      <th></th>\n",
       "      <th></th>\n",
       "      <th></th>\n",
       "      <th></th>\n",
       "      <th></th>\n",
       "      <th></th>\n",
       "    </tr>\n",
       "  </thead>\n",
       "  <tbody>\n",
       "    <tr>\n",
       "      <th>1</th>\n",
       "      <td>telephone</td>\n",
       "      <td>may</td>\n",
       "      <td>mon</td>\n",
       "      <td>307</td>\n",
       "      <td>1</td>\n",
       "      <td>999</td>\n",
       "      <td>0</td>\n",
       "      <td>nonexistent</td>\n",
       "    </tr>\n",
       "    <tr>\n",
       "      <th>2</th>\n",
       "      <td>telephone</td>\n",
       "      <td>may</td>\n",
       "      <td>mon</td>\n",
       "      <td>198</td>\n",
       "      <td>1</td>\n",
       "      <td>999</td>\n",
       "      <td>0</td>\n",
       "      <td>nonexistent</td>\n",
       "    </tr>\n",
       "    <tr>\n",
       "      <th>3</th>\n",
       "      <td>telephone</td>\n",
       "      <td>may</td>\n",
       "      <td>mon</td>\n",
       "      <td>139</td>\n",
       "      <td>1</td>\n",
       "      <td>999</td>\n",
       "      <td>0</td>\n",
       "      <td>nonexistent</td>\n",
       "    </tr>\n",
       "    <tr>\n",
       "      <th>4</th>\n",
       "      <td>telephone</td>\n",
       "      <td>may</td>\n",
       "      <td>mon</td>\n",
       "      <td>217</td>\n",
       "      <td>1</td>\n",
       "      <td>999</td>\n",
       "      <td>0</td>\n",
       "      <td>nonexistent</td>\n",
       "    </tr>\n",
       "    <tr>\n",
       "      <th>5</th>\n",
       "      <td>telephone</td>\n",
       "      <td>may</td>\n",
       "      <td>mon</td>\n",
       "      <td>380</td>\n",
       "      <td>1</td>\n",
       "      <td>999</td>\n",
       "      <td>0</td>\n",
       "      <td>nonexistent</td>\n",
       "    </tr>\n",
       "  </tbody>\n",
       "</table>\n",
       "</div>"
      ],
      "text/plain": [
       "               contact Campaign_month day_of_week  duration  campaign  pdays  \\\n",
       "Customer_id                                                                    \n",
       "1            telephone            may         mon       307         1    999   \n",
       "2            telephone            may         mon       198         1    999   \n",
       "3            telephone            may         mon       139         1    999   \n",
       "4            telephone            may         mon       217         1    999   \n",
       "5            telephone            may         mon       380         1    999   \n",
       "\n",
       "             previous     poutcome  \n",
       "Customer_id                         \n",
       "1                   0  nonexistent  \n",
       "2                   0  nonexistent  \n",
       "3                   0  nonexistent  \n",
       "4                   0  nonexistent  \n",
       "5                   0  nonexistent  "
      ]
     },
     "execution_count": 6,
     "metadata": {},
     "output_type": "execute_result"
    }
   ],
   "source": [
    "customerCampaign.head()"
   ]
  },
  {
   "cell_type": "code",
   "execution_count": 7,
   "id": "a62751ad",
   "metadata": {},
   "outputs": [
    {
     "data": {
      "text/html": [
       "<div>\n",
       "<style scoped>\n",
       "    .dataframe tbody tr th:only-of-type {\n",
       "        vertical-align: middle;\n",
       "    }\n",
       "\n",
       "    .dataframe tbody tr th {\n",
       "        vertical-align: top;\n",
       "    }\n",
       "\n",
       "    .dataframe thead th {\n",
       "        text-align: right;\n",
       "    }\n",
       "</style>\n",
       "<table border=\"1\" class=\"dataframe\">\n",
       "  <thead>\n",
       "    <tr style=\"text-align: right;\">\n",
       "      <th></th>\n",
       "      <th>y</th>\n",
       "    </tr>\n",
       "    <tr>\n",
       "      <th>Customer_id</th>\n",
       "      <th></th>\n",
       "    </tr>\n",
       "  </thead>\n",
       "  <tbody>\n",
       "    <tr>\n",
       "      <th>1</th>\n",
       "      <td>no</td>\n",
       "    </tr>\n",
       "    <tr>\n",
       "      <th>2</th>\n",
       "      <td>no</td>\n",
       "    </tr>\n",
       "    <tr>\n",
       "      <th>3</th>\n",
       "      <td>no</td>\n",
       "    </tr>\n",
       "    <tr>\n",
       "      <th>4</th>\n",
       "      <td>no</td>\n",
       "    </tr>\n",
       "    <tr>\n",
       "      <th>5</th>\n",
       "      <td>no</td>\n",
       "    </tr>\n",
       "  </tbody>\n",
       "</table>\n",
       "</div>"
      ],
      "text/plain": [
       "              y\n",
       "Customer_id    \n",
       "1            no\n",
       "2            no\n",
       "3            no\n",
       "4            no\n",
       "5            no"
      ]
     },
     "execution_count": 7,
     "metadata": {},
     "output_type": "execute_result"
    }
   ],
   "source": [
    "customerResponse.head()"
   ]
  },
  {
   "cell_type": "code",
   "execution_count": 8,
   "id": "0c8cc0c9",
   "metadata": {},
   "outputs": [
    {
     "data": {
      "text/plain": [
       "(37084, 1)"
      ]
     },
     "execution_count": 8,
     "metadata": {},
     "output_type": "execute_result"
    }
   ],
   "source": [
    "customerPostalCode.shape"
   ]
  },
  {
   "cell_type": "code",
   "execution_count": 38,
   "id": "5adb4d2d",
   "metadata": {},
   "outputs": [
    {
     "data": {
      "text/html": [
       "<div>\n",
       "<style scoped>\n",
       "    .dataframe tbody tr th:only-of-type {\n",
       "        vertical-align: middle;\n",
       "    }\n",
       "\n",
       "    .dataframe tbody tr th {\n",
       "        vertical-align: top;\n",
       "    }\n",
       "\n",
       "    .dataframe thead th {\n",
       "        text-align: right;\n",
       "    }\n",
       "</style>\n",
       "<table border=\"1\" class=\"dataframe\">\n",
       "  <thead>\n",
       "    <tr style=\"text-align: right;\">\n",
       "      <th></th>\n",
       "      <th>Region_Name</th>\n",
       "      <th>Region_Code</th>\n",
       "    </tr>\n",
       "  </thead>\n",
       "  <tbody>\n",
       "    <tr>\n",
       "      <th>0</th>\n",
       "      <td>Central</td>\n",
       "      <td>1</td>\n",
       "    </tr>\n",
       "    <tr>\n",
       "      <th>1</th>\n",
       "      <td>East</td>\n",
       "      <td>2</td>\n",
       "    </tr>\n",
       "    <tr>\n",
       "      <th>2</th>\n",
       "      <td>South</td>\n",
       "      <td>3</td>\n",
       "    </tr>\n",
       "    <tr>\n",
       "      <th>3</th>\n",
       "      <td>West</td>\n",
       "      <td>4</td>\n",
       "    </tr>\n",
       "    <tr>\n",
       "      <th>4</th>\n",
       "      <td>North</td>\n",
       "      <td>5</td>\n",
       "    </tr>\n",
       "  </tbody>\n",
       "</table>\n",
       "</div>"
      ],
      "text/plain": [
       "  Region_Name  Region_Code\n",
       "0     Central            1\n",
       "1        East            2\n",
       "2       South            3\n",
       "3        West            4\n",
       "4       North            5"
      ]
     },
     "execution_count": 38,
     "metadata": {},
     "output_type": "execute_result"
    }
   ],
   "source": [
    "region.head()"
   ]
  },
  {
   "cell_type": "code",
   "execution_count": 10,
   "id": "79f1025e",
   "metadata": {},
   "outputs": [
    {
     "data": {
      "text/html": [
       "<div>\n",
       "<style scoped>\n",
       "    .dataframe tbody tr th:only-of-type {\n",
       "        vertical-align: middle;\n",
       "    }\n",
       "\n",
       "    .dataframe tbody tr th {\n",
       "        vertical-align: top;\n",
       "    }\n",
       "\n",
       "    .dataframe thead th {\n",
       "        text-align: right;\n",
       "    }\n",
       "</style>\n",
       "<table border=\"1\" class=\"dataframe\">\n",
       "  <thead>\n",
       "    <tr style=\"text-align: right;\">\n",
       "      <th></th>\n",
       "      <th>State_Code</th>\n",
       "      <th>State_Name</th>\n",
       "      <th>Region_Code</th>\n",
       "    </tr>\n",
       "  </thead>\n",
       "  <tbody>\n",
       "    <tr>\n",
       "      <th>0</th>\n",
       "      <td>S1</td>\n",
       "      <td>Kentucky</td>\n",
       "      <td>3</td>\n",
       "    </tr>\n",
       "    <tr>\n",
       "      <th>1</th>\n",
       "      <td>S2</td>\n",
       "      <td>California</td>\n",
       "      <td>4</td>\n",
       "    </tr>\n",
       "    <tr>\n",
       "      <th>2</th>\n",
       "      <td>S3</td>\n",
       "      <td>Florida</td>\n",
       "      <td>3</td>\n",
       "    </tr>\n",
       "    <tr>\n",
       "      <th>3</th>\n",
       "      <td>S4</td>\n",
       "      <td>North Carolina</td>\n",
       "      <td>3</td>\n",
       "    </tr>\n",
       "    <tr>\n",
       "      <th>4</th>\n",
       "      <td>S5</td>\n",
       "      <td>Washington</td>\n",
       "      <td>4</td>\n",
       "    </tr>\n",
       "  </tbody>\n",
       "</table>\n",
       "</div>"
      ],
      "text/plain": [
       "  State_Code      State_Name  Region_Code\n",
       "0         S1        Kentucky            3\n",
       "1         S2      California            4\n",
       "2         S3         Florida            3\n",
       "3         S4  North Carolina            3\n",
       "4         S5      Washington            4"
      ]
     },
     "execution_count": 10,
     "metadata": {},
     "output_type": "execute_result"
    }
   ],
   "source": [
    "state.head()"
   ]
  },
  {
   "cell_type": "code",
   "execution_count": 11,
   "id": "9b8858e9",
   "metadata": {},
   "outputs": [
    {
     "data": {
      "text/html": [
       "<div>\n",
       "<style scoped>\n",
       "    .dataframe tbody tr th:only-of-type {\n",
       "        vertical-align: middle;\n",
       "    }\n",
       "\n",
       "    .dataframe tbody tr th {\n",
       "        vertical-align: top;\n",
       "    }\n",
       "\n",
       "    .dataframe thead th {\n",
       "        text-align: right;\n",
       "    }\n",
       "</style>\n",
       "<table border=\"1\" class=\"dataframe\">\n",
       "  <thead>\n",
       "    <tr style=\"text-align: right;\">\n",
       "      <th></th>\n",
       "      <th>City_Code</th>\n",
       "      <th>City_Name</th>\n",
       "      <th>State_Code</th>\n",
       "    </tr>\n",
       "  </thead>\n",
       "  <tbody>\n",
       "    <tr>\n",
       "      <th>0</th>\n",
       "      <td>C1</td>\n",
       "      <td>Henderson</td>\n",
       "      <td>S1</td>\n",
       "    </tr>\n",
       "    <tr>\n",
       "      <th>1</th>\n",
       "      <td>C2</td>\n",
       "      <td>Los Angeles</td>\n",
       "      <td>S2</td>\n",
       "    </tr>\n",
       "    <tr>\n",
       "      <th>2</th>\n",
       "      <td>C3</td>\n",
       "      <td>Fort Lauderdale</td>\n",
       "      <td>S3</td>\n",
       "    </tr>\n",
       "    <tr>\n",
       "      <th>3</th>\n",
       "      <td>C4</td>\n",
       "      <td>Concord</td>\n",
       "      <td>S4</td>\n",
       "    </tr>\n",
       "    <tr>\n",
       "      <th>4</th>\n",
       "      <td>C5</td>\n",
       "      <td>Seattle</td>\n",
       "      <td>S5</td>\n",
       "    </tr>\n",
       "  </tbody>\n",
       "</table>\n",
       "</div>"
      ],
      "text/plain": [
       "  City_Code        City_Name State_Code\n",
       "0        C1        Henderson         S1\n",
       "1        C2      Los Angeles         S2\n",
       "2        C3  Fort Lauderdale         S3\n",
       "3        C4          Concord         S4\n",
       "4        C5          Seattle         S5"
      ]
     },
     "execution_count": 11,
     "metadata": {},
     "output_type": "execute_result"
    }
   ],
   "source": [
    "city.head()"
   ]
  },
  {
   "cell_type": "markdown",
   "id": "51f6e875",
   "metadata": {},
   "source": [
    ">Merge all the datasets that have 'Customer_Id' as a common field"
   ]
  },
  {
   "cell_type": "code",
   "execution_count": 12,
   "id": "7c1d93fa",
   "metadata": {},
   "outputs": [],
   "source": [
    "complete_data1 = customerAndBank.copy()"
   ]
  },
  {
   "cell_type": "code",
   "execution_count": 13,
   "id": "c659c3dc",
   "metadata": {},
   "outputs": [],
   "source": [
    "complete_data1 = pd.merge(complete_data1,customerSocialEconomic,on = \"Customer_id\")"
   ]
  },
  {
   "cell_type": "code",
   "execution_count": 14,
   "id": "d6d7a289",
   "metadata": {},
   "outputs": [],
   "source": [
    "complete_data1 = pd.merge(complete_data1,customerCampaign,on = \"Customer_id\")"
   ]
  },
  {
   "cell_type": "code",
   "execution_count": 15,
   "id": "293a296a",
   "metadata": {},
   "outputs": [],
   "source": [
    "complete_data1 = pd.merge(complete_data1,customerResponse,on = \"Customer_id\")"
   ]
  },
  {
   "cell_type": "code",
   "execution_count": 16,
   "id": "9bff737f",
   "metadata": {},
   "outputs": [],
   "source": [
    "complete_data1 = pd.merge(complete_data1,customerPostalCode,on = \"Customer_id\")"
   ]
  },
  {
   "cell_type": "code",
   "execution_count": 17,
   "id": "ac6a11c5",
   "metadata": {},
   "outputs": [
    {
     "data": {
      "text/plain": [
       "(37084, 25)"
      ]
     },
     "execution_count": 17,
     "metadata": {},
     "output_type": "execute_result"
    }
   ],
   "source": [
    "complete_data1.shape"
   ]
  },
  {
   "cell_type": "code",
   "execution_count": 18,
   "id": "a56ec21a",
   "metadata": {},
   "outputs": [],
   "source": [
    "complete_data2 = complete_data1.copy()"
   ]
  },
  {
   "cell_type": "code",
   "execution_count": 19,
   "id": "03b41b62",
   "metadata": {},
   "outputs": [
    {
     "data": {
      "text/plain": [
       "49"
      ]
     },
     "execution_count": 19,
     "metadata": {},
     "output_type": "execute_result"
    }
   ],
   "source": [
    "state.shape[0]"
   ]
  },
  {
   "cell_type": "markdown",
   "id": "08a34b68",
   "metadata": {},
   "source": [
    "### Mapping State Name to \"complete_data1\" using \"state\" dataset. "
   ]
  },
  {
   "cell_type": "code",
   "execution_count": 20,
   "id": "abb95c98",
   "metadata": {},
   "outputs": [],
   "source": [
    "complete_data1['State_Name'] = 'X'"
   ]
  },
  {
   "cell_type": "code",
   "execution_count": 21,
   "id": "1fe7919f",
   "metadata": {},
   "outputs": [
    {
     "name": "stderr",
     "output_type": "stream",
     "text": [
      "C:\\Users\\akshayd6\\AppData\\Local\\Temp\\ipykernel_18064\\1430501260.py:4: SettingWithCopyWarning: \n",
      "A value is trying to be set on a copy of a slice from a DataFrame\n",
      "\n",
      "See the caveats in the documentation: https://pandas.pydata.org/pandas-docs/stable/user_guide/indexing.html#returning-a-view-versus-a-copy\n",
      "  complete_data1['State_Name'].iloc[i] = state['State_Name'].iloc[j]\n"
     ]
    }
   ],
   "source": [
    "for i in range(0,complete_data1.shape[0]):\n",
    "    for j in range(0,state.shape[0]):\n",
    "        if complete_data1['State_Code'].iloc[i] == state['State_Code'].iloc[j]:\n",
    "            complete_data1['State_Name'].iloc[i] = state['State_Name'].iloc[j]\n",
    "        else:\n",
    "            continue"
   ]
  },
  {
   "cell_type": "code",
   "execution_count": 22,
   "id": "ecf870f5",
   "metadata": {},
   "outputs": [
    {
     "data": {
      "text/plain": [
       "California              7427\n",
       "New York                4212\n",
       "Texas                   3614\n",
       "Pennsylvania            2180\n",
       "Washington              1881\n",
       "Illinois                1812\n",
       "Ohio                    1732\n",
       "Florida                 1410\n",
       "Michigan                 959\n",
       "North Carolina           920\n",
       "Arizona                  844\n",
       "Virginia                 812\n",
       "Georgia                  692\n",
       "Colorado                 681\n",
       "Tennessee                658\n",
       "Indiana                  562\n",
       "Kentucky                 520\n",
       "Massachusetts            491\n",
       "New Jersey               479\n",
       "Oregon                   460\n",
       "Wisconsin                404\n",
       "Maryland                 394\n",
       "Delaware                 353\n",
       "Minnesota                347\n",
       "Connecticut              303\n",
       "Oklahoma                 248\n",
       "Missouri                 245\n",
       "Alabama                  235\n",
       "Arkansas                 230\n",
       "Utah                     205\n",
       "Rhode Island             204\n",
       "Mississippi              199\n",
       "South Carolina           168\n",
       "Louisiana                162\n",
       "New Mexico               140\n",
       "Nevada                   139\n",
       "Nebraska                 136\n",
       "Iowa                     109\n",
       "New Hampshire            102\n",
       "Kansas                    91\n",
       "Idaho                     78\n",
       "Montana                   55\n",
       "South Dakota              45\n",
       "District of Columbia      40\n",
       "Vermont                   35\n",
       "Maine                     29\n",
       "North Dakota              26\n",
       "West Virginia             12\n",
       "Wyoming                    4\n",
       "Name: State_Name, dtype: int64"
      ]
     },
     "execution_count": 22,
     "metadata": {},
     "output_type": "execute_result"
    }
   ],
   "source": [
    "complete_data1['State_Name'].value_counts()"
   ]
  },
  {
   "cell_type": "markdown",
   "id": "a735facc",
   "metadata": {},
   "source": [
    "### Mapping City Name to \"complete_data1\" using \"city\" dataset. "
   ]
  },
  {
   "cell_type": "code",
   "execution_count": 23,
   "id": "1404700b",
   "metadata": {},
   "outputs": [],
   "source": [
    "complete_data1[\"City_Name\"] = 'X'"
   ]
  },
  {
   "cell_type": "code",
   "execution_count": 24,
   "id": "8a5781a8",
   "metadata": {},
   "outputs": [
    {
     "name": "stderr",
     "output_type": "stream",
     "text": [
      "C:\\Users\\akshayd6\\AppData\\Local\\Temp\\ipykernel_18064\\3979376953.py:4: SettingWithCopyWarning: \n",
      "A value is trying to be set on a copy of a slice from a DataFrame\n",
      "\n",
      "See the caveats in the documentation: https://pandas.pydata.org/pandas-docs/stable/user_guide/indexing.html#returning-a-view-versus-a-copy\n",
      "  complete_data1['City_Name'].iloc[i] = city['City_Name'].iloc[j]\n"
     ]
    }
   ],
   "source": [
    "for i in range(0,complete_data1.shape[0]):\n",
    "    for j in range(0,city.shape[0]):\n",
    "        if complete_data1['City_Code'].iloc[i] == city['City_Code'].iloc[j]:\n",
    "            complete_data1['City_Name'].iloc[i] = city['City_Name'].iloc[j]\n",
    "        else:\n",
    "            continue"
   ]
  },
  {
   "cell_type": "code",
   "execution_count": 25,
   "id": "3fa6f27f",
   "metadata": {},
   "outputs": [
    {
     "data": {
      "text/plain": [
       "New York City        3422\n",
       "Los Angeles          2781\n",
       "Philadelphia         1996\n",
       "San Francisco        1906\n",
       "Seattle              1590\n",
       "                     ... \n",
       "Davis                   3\n",
       "Arlington Heights       3\n",
       "San Luis Obispo         3\n",
       "Springdale              3\n",
       "Danbury                 3\n",
       "Name: City_Name, Length: 531, dtype: int64"
      ]
     },
     "execution_count": 25,
     "metadata": {},
     "output_type": "execute_result"
    }
   ],
   "source": [
    "complete_data1['City_Name'].value_counts()"
   ]
  },
  {
   "cell_type": "markdown",
   "id": "46e99e82",
   "metadata": {},
   "source": [
    "### Mapping Region Name to \"complete_data1\" using \"region\" dataset. "
   ]
  },
  {
   "cell_type": "code",
   "execution_count": 26,
   "id": "a35581a5",
   "metadata": {
    "scrolled": true
   },
   "outputs": [
    {
     "data": {
      "text/plain": [
       "dtype('O')"
      ]
     },
     "execution_count": 26,
     "metadata": {},
     "output_type": "execute_result"
    }
   ],
   "source": [
    "np.dtype(complete_data1['Region_Code'])"
   ]
  },
  {
   "cell_type": "code",
   "execution_count": 27,
   "id": "88ffa375",
   "metadata": {},
   "outputs": [
    {
     "data": {
      "text/plain": [
       "dtype('int64')"
      ]
     },
     "execution_count": 27,
     "metadata": {},
     "output_type": "execute_result"
    }
   ],
   "source": [
    "np.dtype(region['Region_Code'])"
   ]
  },
  {
   "cell_type": "markdown",
   "id": "fad67225",
   "metadata": {},
   "source": [
    ">There was a datatype mismatch in 'Region_Code' between the datasets. So the datatype has to be changed in order to map the region name."
   ]
  },
  {
   "cell_type": "code",
   "execution_count": 28,
   "id": "668c46dd",
   "metadata": {},
   "outputs": [
    {
     "data": {
      "text/plain": [
       "4     11884\n",
       "2     10558\n",
       "1      8590\n",
       "3      5992\n",
       "Na       60\n",
       "Name: Region_Code, dtype: int64"
      ]
     },
     "execution_count": 28,
     "metadata": {},
     "output_type": "execute_result"
    }
   ],
   "source": [
    "complete_data1['Region_Code'].value_counts()"
   ]
  },
  {
   "cell_type": "markdown",
   "id": "de200536",
   "metadata": {},
   "source": [
    ">It was observed that \"Na\" is present as a string and all other values are numbers. So this has to assigned a random number(999) in order to convert the ebtire column to integer type."
   ]
  },
  {
   "cell_type": "code",
   "execution_count": 29,
   "id": "e7970b78",
   "metadata": {},
   "outputs": [
    {
     "name": "stderr",
     "output_type": "stream",
     "text": [
      "C:\\Users\\akshayd6\\AppData\\Local\\Temp\\ipykernel_18064\\3330460539.py:4: SettingWithCopyWarning: \n",
      "A value is trying to be set on a copy of a slice from a DataFrame\n",
      "\n",
      "See the caveats in the documentation: https://pandas.pydata.org/pandas-docs/stable/user_guide/indexing.html#returning-a-view-versus-a-copy\n",
      "  complete_data1['Region_Code'].iloc[i] = 999\n"
     ]
    }
   ],
   "source": [
    "for i in range(0,complete_data1.shape[0]):\n",
    "    if complete_data1['Region_Code'].iloc[i] == 'Na':\n",
    "        #assigning 999 to 'Na'\n",
    "        complete_data1['Region_Code'].iloc[i] = 999"
   ]
  },
  {
   "cell_type": "code",
   "execution_count": 41,
   "id": "62cb3516",
   "metadata": {},
   "outputs": [],
   "source": [
    "complete_data1['Region_Code'] = complete_data1['Region_Code'].astype(int)"
   ]
  },
  {
   "cell_type": "code",
   "execution_count": 42,
   "id": "8ce22891",
   "metadata": {},
   "outputs": [
    {
     "data": {
      "text/plain": [
       "dtype('int32')"
      ]
     },
     "execution_count": 42,
     "metadata": {},
     "output_type": "execute_result"
    }
   ],
   "source": [
    "np.dtype(complete_data1['Region_Code'])"
   ]
  },
  {
   "cell_type": "code",
   "execution_count": 32,
   "id": "86f014e2",
   "metadata": {},
   "outputs": [
    {
     "data": {
      "text/plain": [
       "4     11884\n",
       "2     10558\n",
       "1      8590\n",
       "3      5992\n",
       "Na       60\n",
       "Name: Region_Code, dtype: int64"
      ]
     },
     "execution_count": 32,
     "metadata": {},
     "output_type": "execute_result"
    }
   ],
   "source": [
    "complete_data2['Region_Code'].value_counts()"
   ]
  },
  {
   "cell_type": "code",
   "execution_count": 33,
   "id": "997ea42c",
   "metadata": {},
   "outputs": [],
   "source": [
    "complete_data1['Region_Name'] = 'X'"
   ]
  },
  {
   "cell_type": "code",
   "execution_count": 43,
   "id": "9e13638c",
   "metadata": {},
   "outputs": [
    {
     "name": "stderr",
     "output_type": "stream",
     "text": [
      "C:\\Users\\akshayd6\\AppData\\Local\\Temp\\ipykernel_18064\\2632736004.py:5: SettingWithCopyWarning: \n",
      "A value is trying to be set on a copy of a slice from a DataFrame\n",
      "\n",
      "See the caveats in the documentation: https://pandas.pydata.org/pandas-docs/stable/user_guide/indexing.html#returning-a-view-versus-a-copy\n",
      "  complete_data1['Region_Name'].iloc[i] = region['Region_Name'].iloc[j]\n"
     ]
    }
   ],
   "source": [
    "#mapping region name to complete\n",
    "for i in range(0,complete_data1.shape[0]):\n",
    "    for j in range(0,region.shape[0]):\n",
    "        if complete_data1['Region_Code'].iloc[i] == region['Region_Code'].iloc[j]:\n",
    "            complete_data1['Region_Name'].iloc[i] = region['Region_Name'].iloc[j]\n",
    "        else:\n",
    "            continue"
   ]
  },
  {
   "cell_type": "code",
   "execution_count": 44,
   "id": "03f1cb26",
   "metadata": {},
   "outputs": [
    {
     "data": {
      "text/plain": [
       "West       11884\n",
       "East       10558\n",
       "Central     8590\n",
       "South       5992\n",
       "X             60\n",
       "Name: Region_Name, dtype: int64"
      ]
     },
     "execution_count": 44,
     "metadata": {},
     "output_type": "execute_result"
    }
   ],
   "source": [
    "complete_data1['Region_Name'].value_counts()"
   ]
  },
  {
   "cell_type": "markdown",
   "id": "524a7141",
   "metadata": {},
   "source": [
    "### Complete Data"
   ]
  },
  {
   "cell_type": "code",
   "execution_count": 45,
   "id": "891bafc1",
   "metadata": {},
   "outputs": [
    {
     "data": {
      "text/html": [
       "<div>\n",
       "<style scoped>\n",
       "    .dataframe tbody tr th:only-of-type {\n",
       "        vertical-align: middle;\n",
       "    }\n",
       "\n",
       "    .dataframe tbody tr th {\n",
       "        vertical-align: top;\n",
       "    }\n",
       "\n",
       "    .dataframe thead th {\n",
       "        text-align: right;\n",
       "    }\n",
       "</style>\n",
       "<table border=\"1\" class=\"dataframe\">\n",
       "  <thead>\n",
       "    <tr style=\"text-align: right;\">\n",
       "      <th></th>\n",
       "      <th>age</th>\n",
       "      <th>job</th>\n",
       "      <th>marital</th>\n",
       "      <th>education</th>\n",
       "      <th>default</th>\n",
       "      <th>housing</th>\n",
       "      <th>loan</th>\n",
       "      <th>Region_Code</th>\n",
       "      <th>State_Code</th>\n",
       "      <th>City_Code</th>\n",
       "      <th>emp.var.rate</th>\n",
       "      <th>cons.price.idx</th>\n",
       "      <th>cons.conf.idx</th>\n",
       "      <th>euribor3m</th>\n",
       "      <th>nr.employed</th>\n",
       "      <th>contact</th>\n",
       "      <th>Campaign_month</th>\n",
       "      <th>day_of_week</th>\n",
       "      <th>duration</th>\n",
       "      <th>campaign</th>\n",
       "      <th>pdays</th>\n",
       "      <th>previous</th>\n",
       "      <th>poutcome</th>\n",
       "      <th>y</th>\n",
       "      <th>Postal Code</th>\n",
       "      <th>State_Name</th>\n",
       "      <th>City_Name</th>\n",
       "      <th>Region_Name</th>\n",
       "    </tr>\n",
       "    <tr>\n",
       "      <th>Customer_id</th>\n",
       "      <th></th>\n",
       "      <th></th>\n",
       "      <th></th>\n",
       "      <th></th>\n",
       "      <th></th>\n",
       "      <th></th>\n",
       "      <th></th>\n",
       "      <th></th>\n",
       "      <th></th>\n",
       "      <th></th>\n",
       "      <th></th>\n",
       "      <th></th>\n",
       "      <th></th>\n",
       "      <th></th>\n",
       "      <th></th>\n",
       "      <th></th>\n",
       "      <th></th>\n",
       "      <th></th>\n",
       "      <th></th>\n",
       "      <th></th>\n",
       "      <th></th>\n",
       "      <th></th>\n",
       "      <th></th>\n",
       "      <th></th>\n",
       "      <th></th>\n",
       "      <th></th>\n",
       "      <th></th>\n",
       "      <th></th>\n",
       "    </tr>\n",
       "  </thead>\n",
       "  <tbody>\n",
       "    <tr>\n",
       "      <th>1</th>\n",
       "      <td>56</td>\n",
       "      <td>services</td>\n",
       "      <td>married</td>\n",
       "      <td>high school</td>\n",
       "      <td>no</td>\n",
       "      <td>no</td>\n",
       "      <td>yes</td>\n",
       "      <td>3</td>\n",
       "      <td>S1</td>\n",
       "      <td>C1</td>\n",
       "      <td>1.1</td>\n",
       "      <td>93.994</td>\n",
       "      <td>-36.4</td>\n",
       "      <td>4.857</td>\n",
       "      <td>5191.0</td>\n",
       "      <td>telephone</td>\n",
       "      <td>may</td>\n",
       "      <td>mon</td>\n",
       "      <td>307</td>\n",
       "      <td>1</td>\n",
       "      <td>999</td>\n",
       "      <td>0</td>\n",
       "      <td>nonexistent</td>\n",
       "      <td>no</td>\n",
       "      <td>42420</td>\n",
       "      <td>Kentucky</td>\n",
       "      <td>Henderson</td>\n",
       "      <td>South</td>\n",
       "    </tr>\n",
       "    <tr>\n",
       "      <th>2</th>\n",
       "      <td>45</td>\n",
       "      <td>services</td>\n",
       "      <td>married</td>\n",
       "      <td>basic 9y</td>\n",
       "      <td>unknown</td>\n",
       "      <td>no</td>\n",
       "      <td>no</td>\n",
       "      <td>3</td>\n",
       "      <td>S1</td>\n",
       "      <td>C1</td>\n",
       "      <td>1.1</td>\n",
       "      <td>93.994</td>\n",
       "      <td>-36.4</td>\n",
       "      <td>4.857</td>\n",
       "      <td>5191.0</td>\n",
       "      <td>telephone</td>\n",
       "      <td>may</td>\n",
       "      <td>mon</td>\n",
       "      <td>198</td>\n",
       "      <td>1</td>\n",
       "      <td>999</td>\n",
       "      <td>0</td>\n",
       "      <td>nonexistent</td>\n",
       "      <td>no</td>\n",
       "      <td>42420</td>\n",
       "      <td>Kentucky</td>\n",
       "      <td>Henderson</td>\n",
       "      <td>South</td>\n",
       "    </tr>\n",
       "    <tr>\n",
       "      <th>3</th>\n",
       "      <td>59</td>\n",
       "      <td>admin</td>\n",
       "      <td>married</td>\n",
       "      <td>professional course</td>\n",
       "      <td>no</td>\n",
       "      <td>no</td>\n",
       "      <td>no</td>\n",
       "      <td>4</td>\n",
       "      <td>S2</td>\n",
       "      <td>C2</td>\n",
       "      <td>1.1</td>\n",
       "      <td>93.994</td>\n",
       "      <td>-36.4</td>\n",
       "      <td>4.857</td>\n",
       "      <td>5191.0</td>\n",
       "      <td>telephone</td>\n",
       "      <td>may</td>\n",
       "      <td>mon</td>\n",
       "      <td>139</td>\n",
       "      <td>1</td>\n",
       "      <td>999</td>\n",
       "      <td>0</td>\n",
       "      <td>nonexistent</td>\n",
       "      <td>no</td>\n",
       "      <td>90036</td>\n",
       "      <td>California</td>\n",
       "      <td>Los Angeles</td>\n",
       "      <td>West</td>\n",
       "    </tr>\n",
       "    <tr>\n",
       "      <th>4</th>\n",
       "      <td>41</td>\n",
       "      <td>blue collar</td>\n",
       "      <td>married</td>\n",
       "      <td>unknown</td>\n",
       "      <td>unknown</td>\n",
       "      <td>no</td>\n",
       "      <td>no</td>\n",
       "      <td>3</td>\n",
       "      <td>S3</td>\n",
       "      <td>C3</td>\n",
       "      <td>1.1</td>\n",
       "      <td>93.994</td>\n",
       "      <td>-36.4</td>\n",
       "      <td>4.857</td>\n",
       "      <td>5191.0</td>\n",
       "      <td>telephone</td>\n",
       "      <td>may</td>\n",
       "      <td>mon</td>\n",
       "      <td>217</td>\n",
       "      <td>1</td>\n",
       "      <td>999</td>\n",
       "      <td>0</td>\n",
       "      <td>nonexistent</td>\n",
       "      <td>no</td>\n",
       "      <td>33311</td>\n",
       "      <td>Florida</td>\n",
       "      <td>Fort Lauderdale</td>\n",
       "      <td>South</td>\n",
       "    </tr>\n",
       "    <tr>\n",
       "      <th>5</th>\n",
       "      <td>24</td>\n",
       "      <td>technician</td>\n",
       "      <td>single</td>\n",
       "      <td>professional course</td>\n",
       "      <td>no</td>\n",
       "      <td>yes</td>\n",
       "      <td>no</td>\n",
       "      <td>3</td>\n",
       "      <td>S3</td>\n",
       "      <td>C3</td>\n",
       "      <td>1.1</td>\n",
       "      <td>93.994</td>\n",
       "      <td>-36.4</td>\n",
       "      <td>4.857</td>\n",
       "      <td>5191.0</td>\n",
       "      <td>telephone</td>\n",
       "      <td>may</td>\n",
       "      <td>mon</td>\n",
       "      <td>380</td>\n",
       "      <td>1</td>\n",
       "      <td>999</td>\n",
       "      <td>0</td>\n",
       "      <td>nonexistent</td>\n",
       "      <td>no</td>\n",
       "      <td>33311</td>\n",
       "      <td>Florida</td>\n",
       "      <td>Fort Lauderdale</td>\n",
       "      <td>South</td>\n",
       "    </tr>\n",
       "  </tbody>\n",
       "</table>\n",
       "</div>"
      ],
      "text/plain": [
       "             age          job  marital            education  default housing  \\\n",
       "Customer_id                                                                    \n",
       "1             56     services  married          high school       no      no   \n",
       "2             45     services  married            basic 9y   unknown      no   \n",
       "3             59        admin  married  professional course       no      no   \n",
       "4             41  blue collar  married              unknown  unknown      no   \n",
       "5             24   technician   single  professional course       no     yes   \n",
       "\n",
       "            loan  Region_Code State_Code City_Code  emp.var.rate  \\\n",
       "Customer_id                                                        \n",
       "1            yes            3         S1        C1           1.1   \n",
       "2             no            3         S1        C1           1.1   \n",
       "3             no            4         S2        C2           1.1   \n",
       "4             no            3         S3        C3           1.1   \n",
       "5             no            3         S3        C3           1.1   \n",
       "\n",
       "             cons.price.idx  cons.conf.idx  euribor3m  nr.employed    contact  \\\n",
       "Customer_id                                                                     \n",
       "1                    93.994          -36.4      4.857       5191.0  telephone   \n",
       "2                    93.994          -36.4      4.857       5191.0  telephone   \n",
       "3                    93.994          -36.4      4.857       5191.0  telephone   \n",
       "4                    93.994          -36.4      4.857       5191.0  telephone   \n",
       "5                    93.994          -36.4      4.857       5191.0  telephone   \n",
       "\n",
       "            Campaign_month day_of_week  duration  campaign  pdays  previous  \\\n",
       "Customer_id                                                                   \n",
       "1                      may         mon       307         1    999         0   \n",
       "2                      may         mon       198         1    999         0   \n",
       "3                      may         mon       139         1    999         0   \n",
       "4                      may         mon       217         1    999         0   \n",
       "5                      may         mon       380         1    999         0   \n",
       "\n",
       "                poutcome   y  Postal Code  State_Name        City_Name  \\\n",
       "Customer_id                                                              \n",
       "1            nonexistent  no        42420    Kentucky        Henderson   \n",
       "2            nonexistent  no        42420    Kentucky        Henderson   \n",
       "3            nonexistent  no        90036  California      Los Angeles   \n",
       "4            nonexistent  no        33311     Florida  Fort Lauderdale   \n",
       "5            nonexistent  no        33311     Florida  Fort Lauderdale   \n",
       "\n",
       "            Region_Name  \n",
       "Customer_id              \n",
       "1                 South  \n",
       "2                 South  \n",
       "3                  West  \n",
       "4                 South  \n",
       "5                 South  "
      ]
     },
     "execution_count": 45,
     "metadata": {},
     "output_type": "execute_result"
    }
   ],
   "source": [
    "complete_data1.head()"
   ]
  },
  {
   "cell_type": "markdown",
   "id": "8d81e6ed",
   "metadata": {},
   "source": [
    ">Removing reduntant columns"
   ]
  },
  {
   "cell_type": "code",
   "execution_count": 48,
   "id": "dc9ae30c",
   "metadata": {},
   "outputs": [],
   "source": [
    "complete_data1.drop(['City_Code','State_Code','Region_Code'],inplace = True,axis = 1)"
   ]
  },
  {
   "cell_type": "markdown",
   "id": "47ae29d0",
   "metadata": {},
   "source": [
    ">Cleaning up column names"
   ]
  },
  {
   "cell_type": "code",
   "execution_count": 53,
   "id": "6d76d0d8",
   "metadata": {},
   "outputs": [],
   "source": [
    "complete_data1.rename(columns = {'emp.var.rate':'employee_variation_rate','cons.price.idx':'consumer_price_index','euribor3m':'euribor',\n",
    "         'nr.employed':'number_employed'},inplace = True)"
   ]
  },
  {
   "cell_type": "markdown",
   "id": "64022ea1",
   "metadata": {},
   "source": [
    "### Final Dataset"
   ]
  },
  {
   "cell_type": "code",
   "execution_count": 54,
   "id": "5ec28c0c",
   "metadata": {},
   "outputs": [
    {
     "data": {
      "text/html": [
       "<div>\n",
       "<style scoped>\n",
       "    .dataframe tbody tr th:only-of-type {\n",
       "        vertical-align: middle;\n",
       "    }\n",
       "\n",
       "    .dataframe tbody tr th {\n",
       "        vertical-align: top;\n",
       "    }\n",
       "\n",
       "    .dataframe thead th {\n",
       "        text-align: right;\n",
       "    }\n",
       "</style>\n",
       "<table border=\"1\" class=\"dataframe\">\n",
       "  <thead>\n",
       "    <tr style=\"text-align: right;\">\n",
       "      <th></th>\n",
       "      <th>age</th>\n",
       "      <th>job</th>\n",
       "      <th>marital</th>\n",
       "      <th>education</th>\n",
       "      <th>default</th>\n",
       "      <th>housing</th>\n",
       "      <th>loan</th>\n",
       "      <th>employee_variation_rate</th>\n",
       "      <th>consumer_price_index</th>\n",
       "      <th>cons.conf.idx</th>\n",
       "      <th>euribor</th>\n",
       "      <th>number_employed</th>\n",
       "      <th>contact</th>\n",
       "      <th>Campaign_month</th>\n",
       "      <th>day_of_week</th>\n",
       "      <th>duration</th>\n",
       "      <th>campaign</th>\n",
       "      <th>pdays</th>\n",
       "      <th>previous</th>\n",
       "      <th>poutcome</th>\n",
       "      <th>y</th>\n",
       "      <th>Postal Code</th>\n",
       "      <th>State_Name</th>\n",
       "      <th>City_Name</th>\n",
       "      <th>Region_Name</th>\n",
       "    </tr>\n",
       "    <tr>\n",
       "      <th>Customer_id</th>\n",
       "      <th></th>\n",
       "      <th></th>\n",
       "      <th></th>\n",
       "      <th></th>\n",
       "      <th></th>\n",
       "      <th></th>\n",
       "      <th></th>\n",
       "      <th></th>\n",
       "      <th></th>\n",
       "      <th></th>\n",
       "      <th></th>\n",
       "      <th></th>\n",
       "      <th></th>\n",
       "      <th></th>\n",
       "      <th></th>\n",
       "      <th></th>\n",
       "      <th></th>\n",
       "      <th></th>\n",
       "      <th></th>\n",
       "      <th></th>\n",
       "      <th></th>\n",
       "      <th></th>\n",
       "      <th></th>\n",
       "      <th></th>\n",
       "      <th></th>\n",
       "    </tr>\n",
       "  </thead>\n",
       "  <tbody>\n",
       "    <tr>\n",
       "      <th>1</th>\n",
       "      <td>56</td>\n",
       "      <td>services</td>\n",
       "      <td>married</td>\n",
       "      <td>high school</td>\n",
       "      <td>no</td>\n",
       "      <td>no</td>\n",
       "      <td>yes</td>\n",
       "      <td>1.1</td>\n",
       "      <td>93.994</td>\n",
       "      <td>-36.4</td>\n",
       "      <td>4.857</td>\n",
       "      <td>5191.0</td>\n",
       "      <td>telephone</td>\n",
       "      <td>may</td>\n",
       "      <td>mon</td>\n",
       "      <td>307</td>\n",
       "      <td>1</td>\n",
       "      <td>999</td>\n",
       "      <td>0</td>\n",
       "      <td>nonexistent</td>\n",
       "      <td>no</td>\n",
       "      <td>42420</td>\n",
       "      <td>Kentucky</td>\n",
       "      <td>Henderson</td>\n",
       "      <td>South</td>\n",
       "    </tr>\n",
       "    <tr>\n",
       "      <th>2</th>\n",
       "      <td>45</td>\n",
       "      <td>services</td>\n",
       "      <td>married</td>\n",
       "      <td>basic 9y</td>\n",
       "      <td>unknown</td>\n",
       "      <td>no</td>\n",
       "      <td>no</td>\n",
       "      <td>1.1</td>\n",
       "      <td>93.994</td>\n",
       "      <td>-36.4</td>\n",
       "      <td>4.857</td>\n",
       "      <td>5191.0</td>\n",
       "      <td>telephone</td>\n",
       "      <td>may</td>\n",
       "      <td>mon</td>\n",
       "      <td>198</td>\n",
       "      <td>1</td>\n",
       "      <td>999</td>\n",
       "      <td>0</td>\n",
       "      <td>nonexistent</td>\n",
       "      <td>no</td>\n",
       "      <td>42420</td>\n",
       "      <td>Kentucky</td>\n",
       "      <td>Henderson</td>\n",
       "      <td>South</td>\n",
       "    </tr>\n",
       "    <tr>\n",
       "      <th>3</th>\n",
       "      <td>59</td>\n",
       "      <td>admin</td>\n",
       "      <td>married</td>\n",
       "      <td>professional course</td>\n",
       "      <td>no</td>\n",
       "      <td>no</td>\n",
       "      <td>no</td>\n",
       "      <td>1.1</td>\n",
       "      <td>93.994</td>\n",
       "      <td>-36.4</td>\n",
       "      <td>4.857</td>\n",
       "      <td>5191.0</td>\n",
       "      <td>telephone</td>\n",
       "      <td>may</td>\n",
       "      <td>mon</td>\n",
       "      <td>139</td>\n",
       "      <td>1</td>\n",
       "      <td>999</td>\n",
       "      <td>0</td>\n",
       "      <td>nonexistent</td>\n",
       "      <td>no</td>\n",
       "      <td>90036</td>\n",
       "      <td>California</td>\n",
       "      <td>Los Angeles</td>\n",
       "      <td>West</td>\n",
       "    </tr>\n",
       "    <tr>\n",
       "      <th>4</th>\n",
       "      <td>41</td>\n",
       "      <td>blue collar</td>\n",
       "      <td>married</td>\n",
       "      <td>unknown</td>\n",
       "      <td>unknown</td>\n",
       "      <td>no</td>\n",
       "      <td>no</td>\n",
       "      <td>1.1</td>\n",
       "      <td>93.994</td>\n",
       "      <td>-36.4</td>\n",
       "      <td>4.857</td>\n",
       "      <td>5191.0</td>\n",
       "      <td>telephone</td>\n",
       "      <td>may</td>\n",
       "      <td>mon</td>\n",
       "      <td>217</td>\n",
       "      <td>1</td>\n",
       "      <td>999</td>\n",
       "      <td>0</td>\n",
       "      <td>nonexistent</td>\n",
       "      <td>no</td>\n",
       "      <td>33311</td>\n",
       "      <td>Florida</td>\n",
       "      <td>Fort Lauderdale</td>\n",
       "      <td>South</td>\n",
       "    </tr>\n",
       "    <tr>\n",
       "      <th>5</th>\n",
       "      <td>24</td>\n",
       "      <td>technician</td>\n",
       "      <td>single</td>\n",
       "      <td>professional course</td>\n",
       "      <td>no</td>\n",
       "      <td>yes</td>\n",
       "      <td>no</td>\n",
       "      <td>1.1</td>\n",
       "      <td>93.994</td>\n",
       "      <td>-36.4</td>\n",
       "      <td>4.857</td>\n",
       "      <td>5191.0</td>\n",
       "      <td>telephone</td>\n",
       "      <td>may</td>\n",
       "      <td>mon</td>\n",
       "      <td>380</td>\n",
       "      <td>1</td>\n",
       "      <td>999</td>\n",
       "      <td>0</td>\n",
       "      <td>nonexistent</td>\n",
       "      <td>no</td>\n",
       "      <td>33311</td>\n",
       "      <td>Florida</td>\n",
       "      <td>Fort Lauderdale</td>\n",
       "      <td>South</td>\n",
       "    </tr>\n",
       "  </tbody>\n",
       "</table>\n",
       "</div>"
      ],
      "text/plain": [
       "             age          job  marital            education  default housing  \\\n",
       "Customer_id                                                                    \n",
       "1             56     services  married          high school       no      no   \n",
       "2             45     services  married            basic 9y   unknown      no   \n",
       "3             59        admin  married  professional course       no      no   \n",
       "4             41  blue collar  married              unknown  unknown      no   \n",
       "5             24   technician   single  professional course       no     yes   \n",
       "\n",
       "            loan  employee_variation_rate  consumer_price_index  \\\n",
       "Customer_id                                                       \n",
       "1            yes                      1.1                93.994   \n",
       "2             no                      1.1                93.994   \n",
       "3             no                      1.1                93.994   \n",
       "4             no                      1.1                93.994   \n",
       "5             no                      1.1                93.994   \n",
       "\n",
       "             cons.conf.idx  euribor  number_employed    contact  \\\n",
       "Customer_id                                                       \n",
       "1                    -36.4    4.857           5191.0  telephone   \n",
       "2                    -36.4    4.857           5191.0  telephone   \n",
       "3                    -36.4    4.857           5191.0  telephone   \n",
       "4                    -36.4    4.857           5191.0  telephone   \n",
       "5                    -36.4    4.857           5191.0  telephone   \n",
       "\n",
       "            Campaign_month day_of_week  duration  campaign  pdays  previous  \\\n",
       "Customer_id                                                                   \n",
       "1                      may         mon       307         1    999         0   \n",
       "2                      may         mon       198         1    999         0   \n",
       "3                      may         mon       139         1    999         0   \n",
       "4                      may         mon       217         1    999         0   \n",
       "5                      may         mon       380         1    999         0   \n",
       "\n",
       "                poutcome   y  Postal Code  State_Name        City_Name  \\\n",
       "Customer_id                                                              \n",
       "1            nonexistent  no        42420    Kentucky        Henderson   \n",
       "2            nonexistent  no        42420    Kentucky        Henderson   \n",
       "3            nonexistent  no        90036  California      Los Angeles   \n",
       "4            nonexistent  no        33311     Florida  Fort Lauderdale   \n",
       "5            nonexistent  no        33311     Florida  Fort Lauderdale   \n",
       "\n",
       "            Region_Name  \n",
       "Customer_id              \n",
       "1                 South  \n",
       "2                 South  \n",
       "3                  West  \n",
       "4                 South  \n",
       "5                 South  "
      ]
     },
     "execution_count": 54,
     "metadata": {},
     "output_type": "execute_result"
    }
   ],
   "source": [
    "complete_data1.head()"
   ]
  },
  {
   "cell_type": "markdown",
   "id": "ba6a429c",
   "metadata": {},
   "source": [
    "### Exporting Final dataset"
   ]
  },
  {
   "cell_type": "code",
   "execution_count": 56,
   "id": "89079f43",
   "metadata": {},
   "outputs": [],
   "source": [
    "complete_data1.to_csv(\"Final Dataset.csv\")"
   ]
  }
 ],
 "metadata": {
  "kernelspec": {
   "display_name": "Python 3 (ipykernel)",
   "language": "python",
   "name": "python3"
  },
  "language_info": {
   "codemirror_mode": {
    "name": "ipython",
    "version": 3
   },
   "file_extension": ".py",
   "mimetype": "text/x-python",
   "name": "python",
   "nbconvert_exporter": "python",
   "pygments_lexer": "ipython3",
   "version": "3.9.12"
  }
 },
 "nbformat": 4,
 "nbformat_minor": 5
}
