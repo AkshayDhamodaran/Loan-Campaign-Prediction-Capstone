{
 "cells": [
  {
   "cell_type": "markdown",
   "id": "34ca18c9",
   "metadata": {},
   "source": [
    "# This workbook contains the models trained using data without 'default column'"
   ]
  },
  {
   "cell_type": "code",
   "execution_count": 2,
   "id": "174fb024",
   "metadata": {},
   "outputs": [],
   "source": [
    "import numpy as np\n",
    "import pandas as pd"
   ]
  },
  {
   "cell_type": "code",
   "execution_count": 3,
   "id": "5a086cde",
   "metadata": {},
   "outputs": [],
   "source": [
    "import seaborn as sns\n",
    "import matplotlib.pyplot as plt\n",
    "%matplotlib inline"
   ]
  },
  {
   "cell_type": "code",
   "execution_count": 4,
   "id": "3a4edabd",
   "metadata": {},
   "outputs": [],
   "source": [
    "import warnings\n",
    "warnings.filterwarnings('ignore')"
   ]
  },
  {
   "cell_type": "code",
   "execution_count": 5,
   "id": "67119fdb",
   "metadata": {},
   "outputs": [],
   "source": [
    "df = pd.read_csv(r\"C:\\Users\\akshayd6\\Desktop\\MyModels\\Loan Default Prediction Capstone\\Dataset with default.csv\",index_col = 'Customer_id')"
   ]
  },
  {
   "cell_type": "code",
   "execution_count": 6,
   "id": "a660ef29",
   "metadata": {},
   "outputs": [
    {
     "data": {
      "text/html": [
       "<div>\n",
       "<style scoped>\n",
       "    .dataframe tbody tr th:only-of-type {\n",
       "        vertical-align: middle;\n",
       "    }\n",
       "\n",
       "    .dataframe tbody tr th {\n",
       "        vertical-align: top;\n",
       "    }\n",
       "\n",
       "    .dataframe thead th {\n",
       "        text-align: right;\n",
       "    }\n",
       "</style>\n",
       "<table border=\"1\" class=\"dataframe\">\n",
       "  <thead>\n",
       "    <tr style=\"text-align: right;\">\n",
       "      <th></th>\n",
       "      <th>age</th>\n",
       "      <th>employee_variation_rate</th>\n",
       "      <th>consumer_price_index</th>\n",
       "      <th>consumer_confidence_index</th>\n",
       "      <th>euribor</th>\n",
       "      <th>number_employed</th>\n",
       "      <th>duration</th>\n",
       "      <th>job</th>\n",
       "      <th>education</th>\n",
       "      <th>marital__married</th>\n",
       "      <th>...</th>\n",
       "      <th>Wilson</th>\n",
       "      <th>Woodbury</th>\n",
       "      <th>Woodland</th>\n",
       "      <th>Woodstock</th>\n",
       "      <th>Woonsocket</th>\n",
       "      <th>Yonkers</th>\n",
       "      <th>York</th>\n",
       "      <th>Yucaipa</th>\n",
       "      <th>Yuma</th>\n",
       "      <th>target</th>\n",
       "    </tr>\n",
       "    <tr>\n",
       "      <th>Customer_id</th>\n",
       "      <th></th>\n",
       "      <th></th>\n",
       "      <th></th>\n",
       "      <th></th>\n",
       "      <th></th>\n",
       "      <th></th>\n",
       "      <th></th>\n",
       "      <th></th>\n",
       "      <th></th>\n",
       "      <th></th>\n",
       "      <th></th>\n",
       "      <th></th>\n",
       "      <th></th>\n",
       "      <th></th>\n",
       "      <th></th>\n",
       "      <th></th>\n",
       "      <th></th>\n",
       "      <th></th>\n",
       "      <th></th>\n",
       "      <th></th>\n",
       "      <th></th>\n",
       "    </tr>\n",
       "  </thead>\n",
       "  <tbody>\n",
       "    <tr>\n",
       "      <th>1</th>\n",
       "      <td>56</td>\n",
       "      <td>1.1</td>\n",
       "      <td>93.994</td>\n",
       "      <td>-36.4</td>\n",
       "      <td>4.857</td>\n",
       "      <td>5191.0</td>\n",
       "      <td>307</td>\n",
       "      <td>6</td>\n",
       "      <td>4</td>\n",
       "      <td>1</td>\n",
       "      <td>...</td>\n",
       "      <td>0</td>\n",
       "      <td>0</td>\n",
       "      <td>0</td>\n",
       "      <td>0</td>\n",
       "      <td>0</td>\n",
       "      <td>0</td>\n",
       "      <td>0</td>\n",
       "      <td>0</td>\n",
       "      <td>0</td>\n",
       "      <td>0</td>\n",
       "    </tr>\n",
       "    <tr>\n",
       "      <th>2</th>\n",
       "      <td>45</td>\n",
       "      <td>1.1</td>\n",
       "      <td>93.994</td>\n",
       "      <td>-36.4</td>\n",
       "      <td>4.857</td>\n",
       "      <td>5191.0</td>\n",
       "      <td>198</td>\n",
       "      <td>6</td>\n",
       "      <td>3</td>\n",
       "      <td>1</td>\n",
       "      <td>...</td>\n",
       "      <td>0</td>\n",
       "      <td>0</td>\n",
       "      <td>0</td>\n",
       "      <td>0</td>\n",
       "      <td>0</td>\n",
       "      <td>0</td>\n",
       "      <td>0</td>\n",
       "      <td>0</td>\n",
       "      <td>0</td>\n",
       "      <td>0</td>\n",
       "    </tr>\n",
       "    <tr>\n",
       "      <th>3</th>\n",
       "      <td>59</td>\n",
       "      <td>1.1</td>\n",
       "      <td>93.994</td>\n",
       "      <td>-36.4</td>\n",
       "      <td>4.857</td>\n",
       "      <td>5191.0</td>\n",
       "      <td>139</td>\n",
       "      <td>9</td>\n",
       "      <td>6</td>\n",
       "      <td>1</td>\n",
       "      <td>...</td>\n",
       "      <td>0</td>\n",
       "      <td>0</td>\n",
       "      <td>0</td>\n",
       "      <td>0</td>\n",
       "      <td>0</td>\n",
       "      <td>0</td>\n",
       "      <td>0</td>\n",
       "      <td>0</td>\n",
       "      <td>0</td>\n",
       "      <td>0</td>\n",
       "    </tr>\n",
       "    <tr>\n",
       "      <th>4</th>\n",
       "      <td>41</td>\n",
       "      <td>1.1</td>\n",
       "      <td>93.994</td>\n",
       "      <td>-36.4</td>\n",
       "      <td>4.857</td>\n",
       "      <td>5191.0</td>\n",
       "      <td>217</td>\n",
       "      <td>10</td>\n",
       "      <td>5</td>\n",
       "      <td>1</td>\n",
       "      <td>...</td>\n",
       "      <td>0</td>\n",
       "      <td>0</td>\n",
       "      <td>0</td>\n",
       "      <td>0</td>\n",
       "      <td>0</td>\n",
       "      <td>0</td>\n",
       "      <td>0</td>\n",
       "      <td>0</td>\n",
       "      <td>0</td>\n",
       "      <td>0</td>\n",
       "    </tr>\n",
       "    <tr>\n",
       "      <th>5</th>\n",
       "      <td>24</td>\n",
       "      <td>1.1</td>\n",
       "      <td>93.994</td>\n",
       "      <td>-36.4</td>\n",
       "      <td>4.857</td>\n",
       "      <td>5191.0</td>\n",
       "      <td>380</td>\n",
       "      <td>5</td>\n",
       "      <td>6</td>\n",
       "      <td>0</td>\n",
       "      <td>...</td>\n",
       "      <td>0</td>\n",
       "      <td>0</td>\n",
       "      <td>0</td>\n",
       "      <td>0</td>\n",
       "      <td>0</td>\n",
       "      <td>0</td>\n",
       "      <td>0</td>\n",
       "      <td>0</td>\n",
       "      <td>0</td>\n",
       "      <td>0</td>\n",
       "    </tr>\n",
       "  </tbody>\n",
       "</table>\n",
       "<p>5 rows × 607 columns</p>\n",
       "</div>"
      ],
      "text/plain": [
       "             age  employee_variation_rate  consumer_price_index  \\\n",
       "Customer_id                                                       \n",
       "1             56                      1.1                93.994   \n",
       "2             45                      1.1                93.994   \n",
       "3             59                      1.1                93.994   \n",
       "4             41                      1.1                93.994   \n",
       "5             24                      1.1                93.994   \n",
       "\n",
       "             consumer_confidence_index  euribor  number_employed  duration  \\\n",
       "Customer_id                                                                  \n",
       "1                                -36.4    4.857           5191.0       307   \n",
       "2                                -36.4    4.857           5191.0       198   \n",
       "3                                -36.4    4.857           5191.0       139   \n",
       "4                                -36.4    4.857           5191.0       217   \n",
       "5                                -36.4    4.857           5191.0       380   \n",
       "\n",
       "             job  education  marital__married  ...  Wilson  Woodbury  \\\n",
       "Customer_id                                    ...                     \n",
       "1              6          4                 1  ...       0         0   \n",
       "2              6          3                 1  ...       0         0   \n",
       "3              9          6                 1  ...       0         0   \n",
       "4             10          5                 1  ...       0         0   \n",
       "5              5          6                 0  ...       0         0   \n",
       "\n",
       "             Woodland  Woodstock  Woonsocket  Yonkers  York  Yucaipa  Yuma  \\\n",
       "Customer_id                                                                  \n",
       "1                   0          0           0        0     0        0     0   \n",
       "2                   0          0           0        0     0        0     0   \n",
       "3                   0          0           0        0     0        0     0   \n",
       "4                   0          0           0        0     0        0     0   \n",
       "5                   0          0           0        0     0        0     0   \n",
       "\n",
       "             target  \n",
       "Customer_id          \n",
       "1                 0  \n",
       "2                 0  \n",
       "3                 0  \n",
       "4                 0  \n",
       "5                 0  \n",
       "\n",
       "[5 rows x 607 columns]"
      ]
     },
     "execution_count": 6,
     "metadata": {},
     "output_type": "execute_result"
    }
   ],
   "source": [
    "df.head()"
   ]
  },
  {
   "cell_type": "code",
   "execution_count": 7,
   "id": "e07d112d",
   "metadata": {},
   "outputs": [
    {
     "data": {
      "text/plain": [
       "(37084, 607)"
      ]
     },
     "execution_count": 7,
     "metadata": {},
     "output_type": "execute_result"
    }
   ],
   "source": [
    "df.shape"
   ]
  },
  {
   "cell_type": "code",
   "execution_count": 8,
   "id": "19d8b566",
   "metadata": {},
   "outputs": [
    {
     "data": {
      "text/plain": [
       "0    0.886528\n",
       "1    0.113472\n",
       "Name: target, dtype: float64"
      ]
     },
     "execution_count": 8,
     "metadata": {},
     "output_type": "execute_result"
    }
   ],
   "source": [
    "df.target.value_counts(normalize = True)"
   ]
  },
  {
   "cell_type": "markdown",
   "id": "f3533227",
   "metadata": {},
   "source": [
    ">We are going to train the model by using scaled and unscalled data and compare difference in accuracy."
   ]
  },
  {
   "cell_type": "markdown",
   "id": "a8f91f07",
   "metadata": {},
   "source": [
    "## Scaling the data"
   ]
  },
  {
   "cell_type": "code",
   "execution_count": 9,
   "id": "6416d981",
   "metadata": {},
   "outputs": [],
   "source": [
    "from sklearn.preprocessing import StandardScaler"
   ]
  },
  {
   "cell_type": "code",
   "execution_count": 10,
   "id": "38fe3607",
   "metadata": {},
   "outputs": [],
   "source": [
    "num_columns = ['age','employee_variation_rate','consumer_price_index','consumer_confidence_index','euribor',\n",
    "              'number_employed','duration']\n",
    "cat_columns = ['job','marital','education','default','housing','contact','Campaign_month',\n",
    "          'day_of_week','campaign','previous','City_Name','default']"
   ]
  },
  {
   "cell_type": "code",
   "execution_count": 11,
   "id": "42b3eff4",
   "metadata": {},
   "outputs": [],
   "source": [
    "tb_scaled = df[num_columns]"
   ]
  },
  {
   "cell_type": "code",
   "execution_count": 12,
   "id": "3944785e",
   "metadata": {},
   "outputs": [
    {
     "data": {
      "text/html": [
       "<div>\n",
       "<style scoped>\n",
       "    .dataframe tbody tr th:only-of-type {\n",
       "        vertical-align: middle;\n",
       "    }\n",
       "\n",
       "    .dataframe tbody tr th {\n",
       "        vertical-align: top;\n",
       "    }\n",
       "\n",
       "    .dataframe thead th {\n",
       "        text-align: right;\n",
       "    }\n",
       "</style>\n",
       "<table border=\"1\" class=\"dataframe\">\n",
       "  <thead>\n",
       "    <tr style=\"text-align: right;\">\n",
       "      <th></th>\n",
       "      <th>age</th>\n",
       "      <th>employee_variation_rate</th>\n",
       "      <th>consumer_price_index</th>\n",
       "      <th>consumer_confidence_index</th>\n",
       "      <th>euribor</th>\n",
       "      <th>number_employed</th>\n",
       "      <th>duration</th>\n",
       "    </tr>\n",
       "    <tr>\n",
       "      <th>Customer_id</th>\n",
       "      <th></th>\n",
       "      <th></th>\n",
       "      <th></th>\n",
       "      <th></th>\n",
       "      <th></th>\n",
       "      <th></th>\n",
       "      <th></th>\n",
       "    </tr>\n",
       "  </thead>\n",
       "  <tbody>\n",
       "    <tr>\n",
       "      <th>1</th>\n",
       "      <td>56</td>\n",
       "      <td>1.1</td>\n",
       "      <td>93.994</td>\n",
       "      <td>-36.4</td>\n",
       "      <td>4.857</td>\n",
       "      <td>5191.0</td>\n",
       "      <td>307</td>\n",
       "    </tr>\n",
       "    <tr>\n",
       "      <th>2</th>\n",
       "      <td>45</td>\n",
       "      <td>1.1</td>\n",
       "      <td>93.994</td>\n",
       "      <td>-36.4</td>\n",
       "      <td>4.857</td>\n",
       "      <td>5191.0</td>\n",
       "      <td>198</td>\n",
       "    </tr>\n",
       "    <tr>\n",
       "      <th>3</th>\n",
       "      <td>59</td>\n",
       "      <td>1.1</td>\n",
       "      <td>93.994</td>\n",
       "      <td>-36.4</td>\n",
       "      <td>4.857</td>\n",
       "      <td>5191.0</td>\n",
       "      <td>139</td>\n",
       "    </tr>\n",
       "    <tr>\n",
       "      <th>4</th>\n",
       "      <td>41</td>\n",
       "      <td>1.1</td>\n",
       "      <td>93.994</td>\n",
       "      <td>-36.4</td>\n",
       "      <td>4.857</td>\n",
       "      <td>5191.0</td>\n",
       "      <td>217</td>\n",
       "    </tr>\n",
       "    <tr>\n",
       "      <th>5</th>\n",
       "      <td>24</td>\n",
       "      <td>1.1</td>\n",
       "      <td>93.994</td>\n",
       "      <td>-36.4</td>\n",
       "      <td>4.857</td>\n",
       "      <td>5191.0</td>\n",
       "      <td>380</td>\n",
       "    </tr>\n",
       "  </tbody>\n",
       "</table>\n",
       "</div>"
      ],
      "text/plain": [
       "             age  employee_variation_rate  consumer_price_index  \\\n",
       "Customer_id                                                       \n",
       "1             56                      1.1                93.994   \n",
       "2             45                      1.1                93.994   \n",
       "3             59                      1.1                93.994   \n",
       "4             41                      1.1                93.994   \n",
       "5             24                      1.1                93.994   \n",
       "\n",
       "             consumer_confidence_index  euribor  number_employed  duration  \n",
       "Customer_id                                                                 \n",
       "1                                -36.4    4.857           5191.0       307  \n",
       "2                                -36.4    4.857           5191.0       198  \n",
       "3                                -36.4    4.857           5191.0       139  \n",
       "4                                -36.4    4.857           5191.0       217  \n",
       "5                                -36.4    4.857           5191.0       380  "
      ]
     },
     "execution_count": 12,
     "metadata": {},
     "output_type": "execute_result"
    }
   ],
   "source": [
    "tb_scaled.head()"
   ]
  },
  {
   "cell_type": "code",
   "execution_count": 13,
   "id": "f35fe6c3",
   "metadata": {},
   "outputs": [],
   "source": [
    "scaler = StandardScaler()\n",
    "scaler.fit(tb_scaled)\n",
    "scaled = scaler.transform(tb_scaled)"
   ]
  },
  {
   "cell_type": "code",
   "execution_count": 14,
   "id": "dbaf4306",
   "metadata": {},
   "outputs": [],
   "source": [
    "scaled_num_columns = pd.DataFrame(scaled)\n",
    "scaled_num_columns = scaled_num_columns.set_index(df.index)"
   ]
  },
  {
   "cell_type": "code",
   "execution_count": 15,
   "id": "05df9341",
   "metadata": {},
   "outputs": [
    {
     "data": {
      "text/html": [
       "<div>\n",
       "<style scoped>\n",
       "    .dataframe tbody tr th:only-of-type {\n",
       "        vertical-align: middle;\n",
       "    }\n",
       "\n",
       "    .dataframe tbody tr th {\n",
       "        vertical-align: top;\n",
       "    }\n",
       "\n",
       "    .dataframe thead th {\n",
       "        text-align: right;\n",
       "    }\n",
       "</style>\n",
       "<table border=\"1\" class=\"dataframe\">\n",
       "  <thead>\n",
       "    <tr style=\"text-align: right;\">\n",
       "      <th></th>\n",
       "      <th>0</th>\n",
       "      <th>1</th>\n",
       "      <th>2</th>\n",
       "      <th>3</th>\n",
       "      <th>4</th>\n",
       "      <th>5</th>\n",
       "      <th>6</th>\n",
       "    </tr>\n",
       "    <tr>\n",
       "      <th>Customer_id</th>\n",
       "      <th></th>\n",
       "      <th></th>\n",
       "      <th></th>\n",
       "      <th></th>\n",
       "      <th></th>\n",
       "      <th></th>\n",
       "      <th></th>\n",
       "    </tr>\n",
       "  </thead>\n",
       "  <tbody>\n",
       "    <tr>\n",
       "      <th>1</th>\n",
       "      <td>1.586388</td>\n",
       "      <td>0.648404</td>\n",
       "      <td>0.722446</td>\n",
       "      <td>0.888187</td>\n",
       "      <td>0.712439</td>\n",
       "      <td>0.331618</td>\n",
       "      <td>0.404735</td>\n",
       "    </tr>\n",
       "    <tr>\n",
       "      <th>2</th>\n",
       "      <td>0.499122</td>\n",
       "      <td>0.648404</td>\n",
       "      <td>0.722446</td>\n",
       "      <td>0.888187</td>\n",
       "      <td>0.712439</td>\n",
       "      <td>0.331618</td>\n",
       "      <td>-0.208708</td>\n",
       "    </tr>\n",
       "    <tr>\n",
       "      <th>3</th>\n",
       "      <td>1.882915</td>\n",
       "      <td>0.648404</td>\n",
       "      <td>0.722446</td>\n",
       "      <td>0.888187</td>\n",
       "      <td>0.712439</td>\n",
       "      <td>0.331618</td>\n",
       "      <td>-0.540755</td>\n",
       "    </tr>\n",
       "    <tr>\n",
       "      <th>4</th>\n",
       "      <td>0.103752</td>\n",
       "      <td>0.648404</td>\n",
       "      <td>0.722446</td>\n",
       "      <td>0.888187</td>\n",
       "      <td>0.712439</td>\n",
       "      <td>0.331618</td>\n",
       "      <td>-0.101778</td>\n",
       "    </tr>\n",
       "    <tr>\n",
       "      <th>5</th>\n",
       "      <td>-1.576569</td>\n",
       "      <td>0.648404</td>\n",
       "      <td>0.722446</td>\n",
       "      <td>0.888187</td>\n",
       "      <td>0.712439</td>\n",
       "      <td>0.331618</td>\n",
       "      <td>0.815573</td>\n",
       "    </tr>\n",
       "  </tbody>\n",
       "</table>\n",
       "</div>"
      ],
      "text/plain": [
       "                    0         1         2         3         4         5  \\\n",
       "Customer_id                                                               \n",
       "1            1.586388  0.648404  0.722446  0.888187  0.712439  0.331618   \n",
       "2            0.499122  0.648404  0.722446  0.888187  0.712439  0.331618   \n",
       "3            1.882915  0.648404  0.722446  0.888187  0.712439  0.331618   \n",
       "4            0.103752  0.648404  0.722446  0.888187  0.712439  0.331618   \n",
       "5           -1.576569  0.648404  0.722446  0.888187  0.712439  0.331618   \n",
       "\n",
       "                    6  \n",
       "Customer_id            \n",
       "1            0.404735  \n",
       "2           -0.208708  \n",
       "3           -0.540755  \n",
       "4           -0.101778  \n",
       "5            0.815573  "
      ]
     },
     "execution_count": 15,
     "metadata": {},
     "output_type": "execute_result"
    }
   ],
   "source": [
    "scaled_num_columns.head()"
   ]
  },
  {
   "cell_type": "code",
   "execution_count": 16,
   "id": "f8840113",
   "metadata": {},
   "outputs": [],
   "source": [
    "unscaled = df.copy()\n",
    "unscaled.drop(columns = num_columns,inplace = True)"
   ]
  },
  {
   "cell_type": "code",
   "execution_count": 17,
   "id": "b31346e9",
   "metadata": {},
   "outputs": [
    {
     "data": {
      "text/html": [
       "<div>\n",
       "<style scoped>\n",
       "    .dataframe tbody tr th:only-of-type {\n",
       "        vertical-align: middle;\n",
       "    }\n",
       "\n",
       "    .dataframe tbody tr th {\n",
       "        vertical-align: top;\n",
       "    }\n",
       "\n",
       "    .dataframe thead th {\n",
       "        text-align: right;\n",
       "    }\n",
       "</style>\n",
       "<table border=\"1\" class=\"dataframe\">\n",
       "  <thead>\n",
       "    <tr style=\"text-align: right;\">\n",
       "      <th></th>\n",
       "      <th>job</th>\n",
       "      <th>education</th>\n",
       "      <th>marital__married</th>\n",
       "      <th>marital__single</th>\n",
       "      <th>default__yes</th>\n",
       "      <th>housing__yes</th>\n",
       "      <th>contact__telephone</th>\n",
       "      <th>Campaign_month__aug</th>\n",
       "      <th>Campaign_month__dec</th>\n",
       "      <th>Campaign_month__jul</th>\n",
       "      <th>...</th>\n",
       "      <th>Wilson</th>\n",
       "      <th>Woodbury</th>\n",
       "      <th>Woodland</th>\n",
       "      <th>Woodstock</th>\n",
       "      <th>Woonsocket</th>\n",
       "      <th>Yonkers</th>\n",
       "      <th>York</th>\n",
       "      <th>Yucaipa</th>\n",
       "      <th>Yuma</th>\n",
       "      <th>target</th>\n",
       "    </tr>\n",
       "    <tr>\n",
       "      <th>Customer_id</th>\n",
       "      <th></th>\n",
       "      <th></th>\n",
       "      <th></th>\n",
       "      <th></th>\n",
       "      <th></th>\n",
       "      <th></th>\n",
       "      <th></th>\n",
       "      <th></th>\n",
       "      <th></th>\n",
       "      <th></th>\n",
       "      <th></th>\n",
       "      <th></th>\n",
       "      <th></th>\n",
       "      <th></th>\n",
       "      <th></th>\n",
       "      <th></th>\n",
       "      <th></th>\n",
       "      <th></th>\n",
       "      <th></th>\n",
       "      <th></th>\n",
       "      <th></th>\n",
       "    </tr>\n",
       "  </thead>\n",
       "  <tbody>\n",
       "    <tr>\n",
       "      <th>1</th>\n",
       "      <td>6</td>\n",
       "      <td>4</td>\n",
       "      <td>1</td>\n",
       "      <td>0</td>\n",
       "      <td>0</td>\n",
       "      <td>0</td>\n",
       "      <td>1</td>\n",
       "      <td>0</td>\n",
       "      <td>0</td>\n",
       "      <td>0</td>\n",
       "      <td>...</td>\n",
       "      <td>0</td>\n",
       "      <td>0</td>\n",
       "      <td>0</td>\n",
       "      <td>0</td>\n",
       "      <td>0</td>\n",
       "      <td>0</td>\n",
       "      <td>0</td>\n",
       "      <td>0</td>\n",
       "      <td>0</td>\n",
       "      <td>0</td>\n",
       "    </tr>\n",
       "    <tr>\n",
       "      <th>2</th>\n",
       "      <td>6</td>\n",
       "      <td>3</td>\n",
       "      <td>1</td>\n",
       "      <td>0</td>\n",
       "      <td>1</td>\n",
       "      <td>0</td>\n",
       "      <td>1</td>\n",
       "      <td>0</td>\n",
       "      <td>0</td>\n",
       "      <td>0</td>\n",
       "      <td>...</td>\n",
       "      <td>0</td>\n",
       "      <td>0</td>\n",
       "      <td>0</td>\n",
       "      <td>0</td>\n",
       "      <td>0</td>\n",
       "      <td>0</td>\n",
       "      <td>0</td>\n",
       "      <td>0</td>\n",
       "      <td>0</td>\n",
       "      <td>0</td>\n",
       "    </tr>\n",
       "    <tr>\n",
       "      <th>3</th>\n",
       "      <td>9</td>\n",
       "      <td>6</td>\n",
       "      <td>1</td>\n",
       "      <td>0</td>\n",
       "      <td>0</td>\n",
       "      <td>0</td>\n",
       "      <td>1</td>\n",
       "      <td>0</td>\n",
       "      <td>0</td>\n",
       "      <td>0</td>\n",
       "      <td>...</td>\n",
       "      <td>0</td>\n",
       "      <td>0</td>\n",
       "      <td>0</td>\n",
       "      <td>0</td>\n",
       "      <td>0</td>\n",
       "      <td>0</td>\n",
       "      <td>0</td>\n",
       "      <td>0</td>\n",
       "      <td>0</td>\n",
       "      <td>0</td>\n",
       "    </tr>\n",
       "    <tr>\n",
       "      <th>4</th>\n",
       "      <td>10</td>\n",
       "      <td>5</td>\n",
       "      <td>1</td>\n",
       "      <td>0</td>\n",
       "      <td>1</td>\n",
       "      <td>0</td>\n",
       "      <td>1</td>\n",
       "      <td>0</td>\n",
       "      <td>0</td>\n",
       "      <td>0</td>\n",
       "      <td>...</td>\n",
       "      <td>0</td>\n",
       "      <td>0</td>\n",
       "      <td>0</td>\n",
       "      <td>0</td>\n",
       "      <td>0</td>\n",
       "      <td>0</td>\n",
       "      <td>0</td>\n",
       "      <td>0</td>\n",
       "      <td>0</td>\n",
       "      <td>0</td>\n",
       "    </tr>\n",
       "    <tr>\n",
       "      <th>5</th>\n",
       "      <td>5</td>\n",
       "      <td>6</td>\n",
       "      <td>0</td>\n",
       "      <td>1</td>\n",
       "      <td>0</td>\n",
       "      <td>1</td>\n",
       "      <td>1</td>\n",
       "      <td>0</td>\n",
       "      <td>0</td>\n",
       "      <td>0</td>\n",
       "      <td>...</td>\n",
       "      <td>0</td>\n",
       "      <td>0</td>\n",
       "      <td>0</td>\n",
       "      <td>0</td>\n",
       "      <td>0</td>\n",
       "      <td>0</td>\n",
       "      <td>0</td>\n",
       "      <td>0</td>\n",
       "      <td>0</td>\n",
       "      <td>0</td>\n",
       "    </tr>\n",
       "  </tbody>\n",
       "</table>\n",
       "<p>5 rows × 600 columns</p>\n",
       "</div>"
      ],
      "text/plain": [
       "             job  education  marital__married  marital__single  default__yes  \\\n",
       "Customer_id                                                                    \n",
       "1              6          4                 1                0             0   \n",
       "2              6          3                 1                0             1   \n",
       "3              9          6                 1                0             0   \n",
       "4             10          5                 1                0             1   \n",
       "5              5          6                 0                1             0   \n",
       "\n",
       "             housing__yes  contact__telephone  Campaign_month__aug  \\\n",
       "Customer_id                                                          \n",
       "1                       0                   1                    0   \n",
       "2                       0                   1                    0   \n",
       "3                       0                   1                    0   \n",
       "4                       0                   1                    0   \n",
       "5                       1                   1                    0   \n",
       "\n",
       "             Campaign_month__dec  Campaign_month__jul  ...  Wilson  Woodbury  \\\n",
       "Customer_id                                            ...                     \n",
       "1                              0                    0  ...       0         0   \n",
       "2                              0                    0  ...       0         0   \n",
       "3                              0                    0  ...       0         0   \n",
       "4                              0                    0  ...       0         0   \n",
       "5                              0                    0  ...       0         0   \n",
       "\n",
       "             Woodland  Woodstock  Woonsocket  Yonkers  York  Yucaipa  Yuma  \\\n",
       "Customer_id                                                                  \n",
       "1                   0          0           0        0     0        0     0   \n",
       "2                   0          0           0        0     0        0     0   \n",
       "3                   0          0           0        0     0        0     0   \n",
       "4                   0          0           0        0     0        0     0   \n",
       "5                   0          0           0        0     0        0     0   \n",
       "\n",
       "             target  \n",
       "Customer_id          \n",
       "1                 0  \n",
       "2                 0  \n",
       "3                 0  \n",
       "4                 0  \n",
       "5                 0  \n",
       "\n",
       "[5 rows x 600 columns]"
      ]
     },
     "execution_count": 17,
     "metadata": {},
     "output_type": "execute_result"
    }
   ],
   "source": [
    "unscaled.head()"
   ]
  },
  {
   "cell_type": "code",
   "execution_count": 18,
   "id": "c52499a1",
   "metadata": {},
   "outputs": [],
   "source": [
    "scaled_data = pd.concat([scaled_num_columns,unscaled],axis = 1)"
   ]
  },
  {
   "cell_type": "code",
   "execution_count": 19,
   "id": "afaec47e",
   "metadata": {},
   "outputs": [],
   "source": [
    "scaled_data.rename(columns = {0:'age',1:'employee_variation_rate',2:'consumer_price_index',\n",
    "                             3:'consumer_confidence_index',4:'euribor',5:'number_employed',6:'duration'},inplace = True)"
   ]
  },
  {
   "cell_type": "code",
   "execution_count": 20,
   "id": "e43d6a29",
   "metadata": {},
   "outputs": [
    {
     "data": {
      "text/html": [
       "<div>\n",
       "<style scoped>\n",
       "    .dataframe tbody tr th:only-of-type {\n",
       "        vertical-align: middle;\n",
       "    }\n",
       "\n",
       "    .dataframe tbody tr th {\n",
       "        vertical-align: top;\n",
       "    }\n",
       "\n",
       "    .dataframe thead th {\n",
       "        text-align: right;\n",
       "    }\n",
       "</style>\n",
       "<table border=\"1\" class=\"dataframe\">\n",
       "  <thead>\n",
       "    <tr style=\"text-align: right;\">\n",
       "      <th></th>\n",
       "      <th>age</th>\n",
       "      <th>employee_variation_rate</th>\n",
       "      <th>consumer_price_index</th>\n",
       "      <th>consumer_confidence_index</th>\n",
       "      <th>euribor</th>\n",
       "      <th>number_employed</th>\n",
       "      <th>duration</th>\n",
       "      <th>job</th>\n",
       "      <th>education</th>\n",
       "      <th>marital__married</th>\n",
       "      <th>...</th>\n",
       "      <th>Wilson</th>\n",
       "      <th>Woodbury</th>\n",
       "      <th>Woodland</th>\n",
       "      <th>Woodstock</th>\n",
       "      <th>Woonsocket</th>\n",
       "      <th>Yonkers</th>\n",
       "      <th>York</th>\n",
       "      <th>Yucaipa</th>\n",
       "      <th>Yuma</th>\n",
       "      <th>target</th>\n",
       "    </tr>\n",
       "    <tr>\n",
       "      <th>Customer_id</th>\n",
       "      <th></th>\n",
       "      <th></th>\n",
       "      <th></th>\n",
       "      <th></th>\n",
       "      <th></th>\n",
       "      <th></th>\n",
       "      <th></th>\n",
       "      <th></th>\n",
       "      <th></th>\n",
       "      <th></th>\n",
       "      <th></th>\n",
       "      <th></th>\n",
       "      <th></th>\n",
       "      <th></th>\n",
       "      <th></th>\n",
       "      <th></th>\n",
       "      <th></th>\n",
       "      <th></th>\n",
       "      <th></th>\n",
       "      <th></th>\n",
       "      <th></th>\n",
       "    </tr>\n",
       "  </thead>\n",
       "  <tbody>\n",
       "    <tr>\n",
       "      <th>37080</th>\n",
       "      <td>2.871339</td>\n",
       "      <td>-0.753784</td>\n",
       "      <td>2.058695</td>\n",
       "      <td>-2.227359</td>\n",
       "      <td>-1.495816</td>\n",
       "      <td>-2.818158</td>\n",
       "      <td>0.556689</td>\n",
       "      <td>2</td>\n",
       "      <td>6</td>\n",
       "      <td>1</td>\n",
       "      <td>...</td>\n",
       "      <td>0</td>\n",
       "      <td>0</td>\n",
       "      <td>0</td>\n",
       "      <td>0</td>\n",
       "      <td>0</td>\n",
       "      <td>0</td>\n",
       "      <td>0</td>\n",
       "      <td>0</td>\n",
       "      <td>0</td>\n",
       "      <td>1</td>\n",
       "    </tr>\n",
       "    <tr>\n",
       "      <th>37081</th>\n",
       "      <td>0.597964</td>\n",
       "      <td>-0.753784</td>\n",
       "      <td>2.058695</td>\n",
       "      <td>-2.227359</td>\n",
       "      <td>-1.495816</td>\n",
       "      <td>-2.818158</td>\n",
       "      <td>0.832457</td>\n",
       "      <td>10</td>\n",
       "      <td>6</td>\n",
       "      <td>1</td>\n",
       "      <td>...</td>\n",
       "      <td>0</td>\n",
       "      <td>0</td>\n",
       "      <td>0</td>\n",
       "      <td>0</td>\n",
       "      <td>0</td>\n",
       "      <td>0</td>\n",
       "      <td>0</td>\n",
       "      <td>0</td>\n",
       "      <td>0</td>\n",
       "      <td>0</td>\n",
       "    </tr>\n",
       "    <tr>\n",
       "      <th>37082</th>\n",
       "      <td>1.586388</td>\n",
       "      <td>-0.753784</td>\n",
       "      <td>2.058695</td>\n",
       "      <td>-2.227359</td>\n",
       "      <td>-1.495816</td>\n",
       "      <td>-2.818158</td>\n",
       "      <td>-0.259359</td>\n",
       "      <td>2</td>\n",
       "      <td>5</td>\n",
       "      <td>1</td>\n",
       "      <td>...</td>\n",
       "      <td>0</td>\n",
       "      <td>0</td>\n",
       "      <td>0</td>\n",
       "      <td>0</td>\n",
       "      <td>0</td>\n",
       "      <td>0</td>\n",
       "      <td>0</td>\n",
       "      <td>0</td>\n",
       "      <td>0</td>\n",
       "      <td>0</td>\n",
       "    </tr>\n",
       "    <tr>\n",
       "      <th>37083</th>\n",
       "      <td>0.400279</td>\n",
       "      <td>-0.753784</td>\n",
       "      <td>2.058695</td>\n",
       "      <td>-2.227359</td>\n",
       "      <td>-1.495816</td>\n",
       "      <td>-2.818158</td>\n",
       "      <td>1.164504</td>\n",
       "      <td>5</td>\n",
       "      <td>6</td>\n",
       "      <td>1</td>\n",
       "      <td>...</td>\n",
       "      <td>0</td>\n",
       "      <td>0</td>\n",
       "      <td>0</td>\n",
       "      <td>0</td>\n",
       "      <td>0</td>\n",
       "      <td>0</td>\n",
       "      <td>0</td>\n",
       "      <td>0</td>\n",
       "      <td>0</td>\n",
       "      <td>1</td>\n",
       "    </tr>\n",
       "    <tr>\n",
       "      <th>37084</th>\n",
       "      <td>2.871339</td>\n",
       "      <td>-0.753784</td>\n",
       "      <td>2.058695</td>\n",
       "      <td>-2.227359</td>\n",
       "      <td>-1.495816</td>\n",
       "      <td>-2.818158</td>\n",
       "      <td>0.022037</td>\n",
       "      <td>2</td>\n",
       "      <td>6</td>\n",
       "      <td>1</td>\n",
       "      <td>...</td>\n",
       "      <td>0</td>\n",
       "      <td>0</td>\n",
       "      <td>0</td>\n",
       "      <td>0</td>\n",
       "      <td>0</td>\n",
       "      <td>0</td>\n",
       "      <td>0</td>\n",
       "      <td>0</td>\n",
       "      <td>0</td>\n",
       "      <td>0</td>\n",
       "    </tr>\n",
       "  </tbody>\n",
       "</table>\n",
       "<p>5 rows × 607 columns</p>\n",
       "</div>"
      ],
      "text/plain": [
       "                  age  employee_variation_rate  consumer_price_index  \\\n",
       "Customer_id                                                            \n",
       "37080        2.871339                -0.753784              2.058695   \n",
       "37081        0.597964                -0.753784              2.058695   \n",
       "37082        1.586388                -0.753784              2.058695   \n",
       "37083        0.400279                -0.753784              2.058695   \n",
       "37084        2.871339                -0.753784              2.058695   \n",
       "\n",
       "             consumer_confidence_index   euribor  number_employed  duration  \\\n",
       "Customer_id                                                                   \n",
       "37080                        -2.227359 -1.495816        -2.818158  0.556689   \n",
       "37081                        -2.227359 -1.495816        -2.818158  0.832457   \n",
       "37082                        -2.227359 -1.495816        -2.818158 -0.259359   \n",
       "37083                        -2.227359 -1.495816        -2.818158  1.164504   \n",
       "37084                        -2.227359 -1.495816        -2.818158  0.022037   \n",
       "\n",
       "             job  education  marital__married  ...  Wilson  Woodbury  \\\n",
       "Customer_id                                    ...                     \n",
       "37080          2          6                 1  ...       0         0   \n",
       "37081         10          6                 1  ...       0         0   \n",
       "37082          2          5                 1  ...       0         0   \n",
       "37083          5          6                 1  ...       0         0   \n",
       "37084          2          6                 1  ...       0         0   \n",
       "\n",
       "             Woodland  Woodstock  Woonsocket  Yonkers  York  Yucaipa  Yuma  \\\n",
       "Customer_id                                                                  \n",
       "37080               0          0           0        0     0        0     0   \n",
       "37081               0          0           0        0     0        0     0   \n",
       "37082               0          0           0        0     0        0     0   \n",
       "37083               0          0           0        0     0        0     0   \n",
       "37084               0          0           0        0     0        0     0   \n",
       "\n",
       "             target  \n",
       "Customer_id          \n",
       "37080             1  \n",
       "37081             0  \n",
       "37082             0  \n",
       "37083             1  \n",
       "37084             0  \n",
       "\n",
       "[5 rows x 607 columns]"
      ]
     },
     "execution_count": 20,
     "metadata": {},
     "output_type": "execute_result"
    }
   ],
   "source": [
    "scaled_data.tail()"
   ]
  },
  {
   "cell_type": "markdown",
   "id": "67a67f8a",
   "metadata": {},
   "source": [
    "## Test Train split - Unscaled data"
   ]
  },
  {
   "cell_type": "code",
   "execution_count": 21,
   "id": "b1c7e5fa",
   "metadata": {},
   "outputs": [],
   "source": [
    "from sklearn.model_selection import train_test_split"
   ]
  },
  {
   "cell_type": "code",
   "execution_count": 22,
   "id": "fa10bcda",
   "metadata": {},
   "outputs": [],
   "source": [
    "X = df.drop(columns = ['target'],axis = 1)\n",
    "y = df['target']"
   ]
  },
  {
   "cell_type": "code",
   "execution_count": 23,
   "id": "4f7c5aa0",
   "metadata": {},
   "outputs": [
    {
     "name": "stdout",
     "output_type": "stream",
     "text": [
      "X-shape: (37084, 606)\n",
      "y-shape: (37084,)\n"
     ]
    }
   ],
   "source": [
    "print(\"X-shape:\",X.shape)\n",
    "print(\"y-shape:\",y.shape)"
   ]
  },
  {
   "cell_type": "code",
   "execution_count": 24,
   "id": "ff2ff468",
   "metadata": {},
   "outputs": [],
   "source": [
    "X_train, X_test, y_train, y_test = train_test_split(X, y, test_size=0.25,random_state = 42)"
   ]
  },
  {
   "cell_type": "code",
   "execution_count": 25,
   "id": "c3f4dbeb",
   "metadata": {},
   "outputs": [
    {
     "name": "stdout",
     "output_type": "stream",
     "text": [
      "0    24599\n",
      "1     3214\n",
      "Name: target, dtype: int64\n",
      "0    0.884443\n",
      "1    0.115557\n",
      "Name: target, dtype: float64\n"
     ]
    }
   ],
   "source": [
    "print(y_train.value_counts())\n",
    "print(y_train.value_counts(normalize = True))"
   ]
  },
  {
   "cell_type": "markdown",
   "id": "c738cf39",
   "metadata": {},
   "source": [
    ">Here we can see that the target variable is imbalaced ~88% - no and ~12% - yes. So we must make this a balanced sample by using SMOTE."
   ]
  },
  {
   "cell_type": "markdown",
   "id": "ec00e1d2",
   "metadata": {},
   "source": [
    "## Test Train split - Scaled data"
   ]
  },
  {
   "cell_type": "code",
   "execution_count": 26,
   "id": "50f77306",
   "metadata": {},
   "outputs": [],
   "source": [
    "X1 = scaled_data.drop(columns = ['target'],axis = 1)\n",
    "y1 = scaled_data['target']"
   ]
  },
  {
   "cell_type": "code",
   "execution_count": 27,
   "id": "bbdf7471",
   "metadata": {},
   "outputs": [
    {
     "name": "stdout",
     "output_type": "stream",
     "text": [
      "X-shape: (37084, 606)\n",
      "y-shape: (37084,)\n"
     ]
    }
   ],
   "source": [
    "print(\"X-shape:\",X1.shape)\n",
    "print(\"y-shape:\",y1.shape)"
   ]
  },
  {
   "cell_type": "code",
   "execution_count": 28,
   "id": "33af1435",
   "metadata": {},
   "outputs": [],
   "source": [
    "sX_train, sX_test, sy_train, sy_test = train_test_split(X1, y1, test_size=0.25,random_state = 42)"
   ]
  },
  {
   "cell_type": "code",
   "execution_count": 29,
   "id": "cdf9947a",
   "metadata": {},
   "outputs": [
    {
     "name": "stdout",
     "output_type": "stream",
     "text": [
      "0    24599\n",
      "1     3214\n",
      "Name: target, dtype: int64\n",
      "0    0.884443\n",
      "1    0.115557\n",
      "Name: target, dtype: float64\n"
     ]
    }
   ],
   "source": [
    "print(sy_train.value_counts())\n",
    "print(sy_train.value_counts(normalize = True))"
   ]
  },
  {
   "cell_type": "markdown",
   "id": "cd633a2c",
   "metadata": {},
   "source": [
    ">Here we can see that the target variable is imbalaced ~88% - no and ~12% - yes. So we must make this a balanced sample by using SMOTE."
   ]
  },
  {
   "cell_type": "markdown",
   "id": "70d92e03",
   "metadata": {},
   "source": [
    "## SMOTE for unscaled data"
   ]
  },
  {
   "cell_type": "code",
   "execution_count": 30,
   "id": "16ef7b2a",
   "metadata": {},
   "outputs": [],
   "source": [
    "from imblearn.over_sampling import SMOTE "
   ]
  },
  {
   "cell_type": "code",
   "execution_count": 31,
   "id": "3059215e",
   "metadata": {},
   "outputs": [],
   "source": [
    "sm = SMOTE(random_state=42)\n",
    "X_res, y_res = sm.fit_resample(X_train, y_train)"
   ]
  },
  {
   "cell_type": "code",
   "execution_count": 32,
   "id": "ebfdd474",
   "metadata": {},
   "outputs": [
    {
     "name": "stdout",
     "output_type": "stream",
     "text": [
      "X-shape: (49198, 606)\n",
      "y-shape: (49198,)\n"
     ]
    }
   ],
   "source": [
    "print(\"X-shape:\",X_res.shape)\n",
    "print(\"y-shape:\",y_res.shape)"
   ]
  },
  {
   "cell_type": "code",
   "execution_count": 33,
   "id": "f82e885f",
   "metadata": {},
   "outputs": [
    {
     "name": "stdout",
     "output_type": "stream",
     "text": [
      "0    24599\n",
      "1    24599\n",
      "Name: target, dtype: int64\n",
      "0    0.5\n",
      "1    0.5\n",
      "Name: target, dtype: float64\n"
     ]
    }
   ],
   "source": [
    "print(y_res.value_counts())\n",
    "print(y_res.value_counts(normalize = True))"
   ]
  },
  {
   "cell_type": "markdown",
   "id": "1291d23a",
   "metadata": {},
   "source": [
    ">Here the data was oversampled and now the ratio of yes:no is 1:1"
   ]
  },
  {
   "cell_type": "markdown",
   "id": "4111d6d8",
   "metadata": {},
   "source": [
    "## SMOTE for scaled data"
   ]
  },
  {
   "cell_type": "code",
   "execution_count": 34,
   "id": "0fb7902d",
   "metadata": {},
   "outputs": [],
   "source": [
    "sm1 = SMOTE(random_state=42)\n",
    "sX_res, sy_res = sm1.fit_resample(sX_train, sy_train)"
   ]
  },
  {
   "cell_type": "code",
   "execution_count": 35,
   "id": "d0f574f2",
   "metadata": {},
   "outputs": [
    {
     "name": "stdout",
     "output_type": "stream",
     "text": [
      "X-shape: (49198, 606)\n",
      "y-shape: (49198,)\n"
     ]
    }
   ],
   "source": [
    "print(\"X-shape:\",sX_res.shape)\n",
    "print(\"y-shape:\",sy_res.shape)"
   ]
  },
  {
   "cell_type": "code",
   "execution_count": 36,
   "id": "eec92ae7",
   "metadata": {},
   "outputs": [
    {
     "name": "stdout",
     "output_type": "stream",
     "text": [
      "0    24599\n",
      "1    24599\n",
      "Name: target, dtype: int64\n",
      "0    0.5\n",
      "1    0.5\n",
      "Name: target, dtype: float64\n"
     ]
    }
   ],
   "source": [
    "print(y_res.value_counts())\n",
    "print(y_res.value_counts(normalize = True))"
   ]
  },
  {
   "cell_type": "markdown",
   "id": "7291a861",
   "metadata": {},
   "source": [
    ">Here the data was oversampled and now the ratio of yes:no is 1:1"
   ]
  },
  {
   "cell_type": "markdown",
   "id": "9fd871d1",
   "metadata": {},
   "source": [
    "## Logistic Regression using unscaled data"
   ]
  },
  {
   "cell_type": "code",
   "execution_count": 37,
   "id": "1259e0fa",
   "metadata": {},
   "outputs": [
    {
     "data": {
      "text/plain": [
       "0    24599\n",
       "1    24599\n",
       "Name: target, dtype: int64"
      ]
     },
     "execution_count": 37,
     "metadata": {},
     "output_type": "execute_result"
    }
   ],
   "source": [
    "y_res.value_counts()"
   ]
  },
  {
   "cell_type": "code",
   "execution_count": 38,
   "id": "ff7712b5",
   "metadata": {},
   "outputs": [],
   "source": [
    "from sklearn.linear_model import LogisticRegression"
   ]
  },
  {
   "cell_type": "code",
   "execution_count": 39,
   "id": "20908a99",
   "metadata": {},
   "outputs": [
    {
     "data": {
      "text/html": [
       "<style>#sk-container-id-1 {color: black;background-color: white;}#sk-container-id-1 pre{padding: 0;}#sk-container-id-1 div.sk-toggleable {background-color: white;}#sk-container-id-1 label.sk-toggleable__label {cursor: pointer;display: block;width: 100%;margin-bottom: 0;padding: 0.3em;box-sizing: border-box;text-align: center;}#sk-container-id-1 label.sk-toggleable__label-arrow:before {content: \"▸\";float: left;margin-right: 0.25em;color: #696969;}#sk-container-id-1 label.sk-toggleable__label-arrow:hover:before {color: black;}#sk-container-id-1 div.sk-estimator:hover label.sk-toggleable__label-arrow:before {color: black;}#sk-container-id-1 div.sk-toggleable__content {max-height: 0;max-width: 0;overflow: hidden;text-align: left;background-color: #f0f8ff;}#sk-container-id-1 div.sk-toggleable__content pre {margin: 0.2em;color: black;border-radius: 0.25em;background-color: #f0f8ff;}#sk-container-id-1 input.sk-toggleable__control:checked~div.sk-toggleable__content {max-height: 200px;max-width: 100%;overflow: auto;}#sk-container-id-1 input.sk-toggleable__control:checked~label.sk-toggleable__label-arrow:before {content: \"▾\";}#sk-container-id-1 div.sk-estimator input.sk-toggleable__control:checked~label.sk-toggleable__label {background-color: #d4ebff;}#sk-container-id-1 div.sk-label input.sk-toggleable__control:checked~label.sk-toggleable__label {background-color: #d4ebff;}#sk-container-id-1 input.sk-hidden--visually {border: 0;clip: rect(1px 1px 1px 1px);clip: rect(1px, 1px, 1px, 1px);height: 1px;margin: -1px;overflow: hidden;padding: 0;position: absolute;width: 1px;}#sk-container-id-1 div.sk-estimator {font-family: monospace;background-color: #f0f8ff;border: 1px dotted black;border-radius: 0.25em;box-sizing: border-box;margin-bottom: 0.5em;}#sk-container-id-1 div.sk-estimator:hover {background-color: #d4ebff;}#sk-container-id-1 div.sk-parallel-item::after {content: \"\";width: 100%;border-bottom: 1px solid gray;flex-grow: 1;}#sk-container-id-1 div.sk-label:hover label.sk-toggleable__label {background-color: #d4ebff;}#sk-container-id-1 div.sk-serial::before {content: \"\";position: absolute;border-left: 1px solid gray;box-sizing: border-box;top: 0;bottom: 0;left: 50%;z-index: 0;}#sk-container-id-1 div.sk-serial {display: flex;flex-direction: column;align-items: center;background-color: white;padding-right: 0.2em;padding-left: 0.2em;position: relative;}#sk-container-id-1 div.sk-item {position: relative;z-index: 1;}#sk-container-id-1 div.sk-parallel {display: flex;align-items: stretch;justify-content: center;background-color: white;position: relative;}#sk-container-id-1 div.sk-item::before, #sk-container-id-1 div.sk-parallel-item::before {content: \"\";position: absolute;border-left: 1px solid gray;box-sizing: border-box;top: 0;bottom: 0;left: 50%;z-index: -1;}#sk-container-id-1 div.sk-parallel-item {display: flex;flex-direction: column;z-index: 1;position: relative;background-color: white;}#sk-container-id-1 div.sk-parallel-item:first-child::after {align-self: flex-end;width: 50%;}#sk-container-id-1 div.sk-parallel-item:last-child::after {align-self: flex-start;width: 50%;}#sk-container-id-1 div.sk-parallel-item:only-child::after {width: 0;}#sk-container-id-1 div.sk-dashed-wrapped {border: 1px dashed gray;margin: 0 0.4em 0.5em 0.4em;box-sizing: border-box;padding-bottom: 0.4em;background-color: white;}#sk-container-id-1 div.sk-label label {font-family: monospace;font-weight: bold;display: inline-block;line-height: 1.2em;}#sk-container-id-1 div.sk-label-container {text-align: center;}#sk-container-id-1 div.sk-container {/* jupyter's `normalize.less` sets `[hidden] { display: none; }` but bootstrap.min.css set `[hidden] { display: none !important; }` so we also need the `!important` here to be able to override the default hidden behavior on the sphinx rendered scikit-learn.org. See: https://github.com/scikit-learn/scikit-learn/issues/21755 */display: inline-block !important;position: relative;}#sk-container-id-1 div.sk-text-repr-fallback {display: none;}</style><div id=\"sk-container-id-1\" class=\"sk-top-container\"><div class=\"sk-text-repr-fallback\"><pre>LogisticRegression()</pre><b>In a Jupyter environment, please rerun this cell to show the HTML representation or trust the notebook. <br />On GitHub, the HTML representation is unable to render, please try loading this page with nbviewer.org.</b></div><div class=\"sk-container\" hidden><div class=\"sk-item\"><div class=\"sk-estimator sk-toggleable\"><input class=\"sk-toggleable__control sk-hidden--visually\" id=\"sk-estimator-id-1\" type=\"checkbox\" checked><label for=\"sk-estimator-id-1\" class=\"sk-toggleable__label sk-toggleable__label-arrow\">LogisticRegression</label><div class=\"sk-toggleable__content\"><pre>LogisticRegression()</pre></div></div></div></div></div>"
      ],
      "text/plain": [
       "LogisticRegression()"
      ]
     },
     "execution_count": 39,
     "metadata": {},
     "output_type": "execute_result"
    }
   ],
   "source": [
    "lr = LogisticRegression()\n",
    "lr.fit(X_res,y_res)"
   ]
  },
  {
   "cell_type": "code",
   "execution_count": 40,
   "id": "ab00b139",
   "metadata": {},
   "outputs": [
    {
     "data": {
      "text/plain": [
       "0.8298996871966347"
      ]
     },
     "execution_count": 40,
     "metadata": {},
     "output_type": "execute_result"
    }
   ],
   "source": [
    "lr.score(X_test,y_test)"
   ]
  },
  {
   "cell_type": "markdown",
   "id": "c3e5d815",
   "metadata": {},
   "source": [
    "### Classification Report"
   ]
  },
  {
   "cell_type": "code",
   "execution_count": 41,
   "id": "aed7e7ee",
   "metadata": {},
   "outputs": [],
   "source": [
    "from sklearn.metrics import classification_report\n",
    "from sklearn.metrics import confusion_matrix"
   ]
  },
  {
   "cell_type": "code",
   "execution_count": 42,
   "id": "26597cfd",
   "metadata": {},
   "outputs": [],
   "source": [
    "lr_preds = lr.predict(X_test)"
   ]
  },
  {
   "cell_type": "code",
   "execution_count": 43,
   "id": "c316e365",
   "metadata": {},
   "outputs": [
    {
     "name": "stdout",
     "output_type": "stream",
     "text": [
      "              precision    recall  f1-score   support\n",
      "\n",
      "           0       0.98      0.82      0.90      8277\n",
      "           1       0.38      0.89      0.53       994\n",
      "\n",
      "    accuracy                           0.83      9271\n",
      "   macro avg       0.68      0.86      0.71      9271\n",
      "weighted avg       0.92      0.83      0.86      9271\n",
      "\n"
     ]
    }
   ],
   "source": [
    "print(classification_report(y_test, lr_preds))"
   ]
  },
  {
   "cell_type": "markdown",
   "id": "f45204f7",
   "metadata": {},
   "source": [
    "### Confusion martrix"
   ]
  },
  {
   "cell_type": "code",
   "execution_count": 44,
   "id": "a792226e",
   "metadata": {},
   "outputs": [
    {
     "data": {
      "text/html": [
       "<div>\n",
       "<style scoped>\n",
       "    .dataframe tbody tr th:only-of-type {\n",
       "        vertical-align: middle;\n",
       "    }\n",
       "\n",
       "    .dataframe tbody tr th {\n",
       "        vertical-align: top;\n",
       "    }\n",
       "\n",
       "    .dataframe thead th {\n",
       "        text-align: right;\n",
       "    }\n",
       "</style>\n",
       "<table border=\"1\" class=\"dataframe\">\n",
       "  <thead>\n",
       "    <tr style=\"text-align: right;\">\n",
       "      <th></th>\n",
       "      <th>Predicted(0)</th>\n",
       "      <th>Predicted(1)</th>\n",
       "    </tr>\n",
       "  </thead>\n",
       "  <tbody>\n",
       "    <tr>\n",
       "      <th>True(0)</th>\n",
       "      <td>6812</td>\n",
       "      <td>1465</td>\n",
       "    </tr>\n",
       "    <tr>\n",
       "      <th>True(1)</th>\n",
       "      <td>112</td>\n",
       "      <td>882</td>\n",
       "    </tr>\n",
       "  </tbody>\n",
       "</table>\n",
       "</div>"
      ],
      "text/plain": [
       "         Predicted(0)  Predicted(1)\n",
       "True(0)          6812          1465\n",
       "True(1)           112           882"
      ]
     },
     "execution_count": 44,
     "metadata": {},
     "output_type": "execute_result"
    }
   ],
   "source": [
    "cm = confusion_matrix(y_test,lr_preds)\n",
    "conf_mat = pd.DataFrame(cm,index = ['True(0)','True(1)'],columns = ['Predicted(0)','Predicted(1)'])\n",
    "conf_mat"
   ]
  },
  {
   "cell_type": "markdown",
   "id": "f1087db6",
   "metadata": {},
   "source": [
    "### ROC_AUC - Unscaled LR model"
   ]
  },
  {
   "cell_type": "code",
   "execution_count": 45,
   "id": "084b7fdc",
   "metadata": {},
   "outputs": [],
   "source": [
    "from sklearn.metrics import roc_curve\n",
    "from sklearn.metrics import roc_auc_score"
   ]
  },
  {
   "cell_type": "code",
   "execution_count": 46,
   "id": "b699bd3f",
   "metadata": {},
   "outputs": [
    {
     "name": "stdout",
     "output_type": "stream",
     "text": [
      "optimal threshold:  0.4796189884612982\n"
     ]
    },
    {
     "data": {
      "image/png": "[encoded data removed]",
      "text/plain": [
       "<Figure size 432x288 with 1 Axes>"
      ]
     },
     "metadata": {
      "needs_background": "light"
     },
     "output_type": "display_data"
    }
   ],
   "source": [
    "y_pred_proba = lr.predict_proba(X_test)[:,1]\n",
    "fpr, tpr, thresholds = roc_curve(y_test,  y_pred_proba)\n",
    "auc = roc_auc_score(y_test, y_pred_proba)\n",
    "\n",
    "#blue_line\n",
    "random_probs = [0 for i in range(len(y_test))]\n",
    "p_fpr, p_tpr,_ = roc_curve(y_test, random_probs, pos_label=1)\n",
    "\n",
    "optimal_idx = np.argmax(tpr - fpr)\n",
    "optimal_threshold = thresholds[optimal_idx]\n",
    "\n",
    "print(\"optimal threshold: \",optimal_threshold)\n",
    "\n",
    "#create ROC curve\n",
    "plt.plot(fpr,tpr,label=\"AUC=\"+str(auc))\n",
    "plt.ylabel('True Positive Rate')\n",
    "plt.xlabel('False Positive Rate')\n",
    "plt.legend(loc=4)\n",
    "plt.plot(p_fpr, p_tpr, linestyle='--')\n",
    "plt.show()"
   ]
  },
  {
   "cell_type": "markdown",
   "id": "3795b61d",
   "metadata": {},
   "source": [
    "## Model Explainability"
   ]
  },
  {
   "cell_type": "code",
   "execution_count": 47,
   "id": "d3a2e04a",
   "metadata": {},
   "outputs": [],
   "source": [
    "import shap"
   ]
  },
  {
   "cell_type": "code",
   "execution_count": 48,
   "id": "884a3990",
   "metadata": {},
   "outputs": [],
   "source": [
    "feature_names = list(X_train.columns)"
   ]
  },
  {
   "cell_type": "code",
   "execution_count": 49,
   "id": "44fddfb9",
   "metadata": {},
   "outputs": [],
   "source": [
    "explainer = shap.Explainer(lr, X_train, feature_names = feature_names)\n",
    "shap_values = explainer(X_test)"
   ]
  },
  {
   "cell_type": "code",
   "execution_count": 50,
   "id": "9569ab21",
   "metadata": {},
   "outputs": [
    {
     "data": {
      "image/png": "[encoded data removed]",
      "text/plain": [
       "<Figure size 576x972 with 2 Axes>"
      ]
     },
     "metadata": {
      "needs_background": "light"
     },
     "output_type": "display_data"
    }
   ],
   "source": [
    "shap.plots.beeswarm(shap_values,max_display = 30)#, X_test_array, feature_names=vectorizer.get_feature_names())"
   ]
  },
  {
   "cell_type": "markdown",
   "id": "1720a57a",
   "metadata": {},
   "source": [
    "## Conclusion:"
   ]
  },
  {
   "cell_type": "markdown",
   "id": "b73bbffc",
   "metadata": {},
   "source": [
    ">Here we can see that default is not an important feature. so it not necessary to include that feature in the model."
   ]
  }
 ],
 "metadata": {
  "kernelspec": {
   "display_name": "Python 3 (ipykernel)",
   "language": "python",
   "name": "python3"
  },
  "language_info": {
   "codemirror_mode": {
    "name": "ipython",
    "version": 3
   },
   "file_extension": ".py",
   "mimetype": "text/x-python",
   "name": "python",
   "nbconvert_exporter": "python",
   "pygments_lexer": "ipython3",
   "version": "3.9.12"
  }
 },
 "nbformat": 4,
 "nbformat_minor": 5
}
