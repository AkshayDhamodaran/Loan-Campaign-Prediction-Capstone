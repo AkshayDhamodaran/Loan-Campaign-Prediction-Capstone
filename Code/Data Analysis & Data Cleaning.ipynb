{
 "cells": [
  {
   "cell_type": "code",
   "execution_count": 1,
   "id": "92904270",
   "metadata": {},
   "outputs": [],
   "source": [
    "import numpy as np\n",
    "import pandas as pd"
   ]
  },
  {
   "cell_type": "code",
   "execution_count": 2,
   "id": "8020a62a",
   "metadata": {},
   "outputs": [],
   "source": [
    "import seaborn as sns\n",
    "import matplotlib.pyplot as plt\n",
    "%matplotlib inline"
   ]
  },
  {
   "cell_type": "code",
   "execution_count": 3,
   "id": "de150d12",
   "metadata": {},
   "outputs": [],
   "source": [
    "#import the data\n",
    "df = pd.read_csv(r\"C:\\Users\\akshayd6\\Desktop\\MyModels\\Loan Default Prediction Capstone\\Final Dataset.csv\",index_col = 'Customer_id')"
   ]
  },
  {
   "cell_type": "code",
   "execution_count": 4,
   "id": "3c8f2163",
   "metadata": {},
   "outputs": [],
   "source": [
    "data = df.copy()"
   ]
  },
  {
   "cell_type": "code",
   "execution_count": 5,
   "id": "bce0abd2",
   "metadata": {},
   "outputs": [],
   "source": [
    "#code to display all columns of dataset\n",
    "pd.set_option('display.max_columns', None)\n",
    "pd.set_option('display.width', None)\n",
    "pd.set_option('display.max_colwidth', None)"
   ]
  },
  {
   "cell_type": "code",
   "execution_count": 6,
   "id": "87fe4363",
   "metadata": {},
   "outputs": [],
   "source": [
    "df.rename(columns = {'cons.conf.idx': 'consumer_confidence_index'},inplace = True)"
   ]
  },
  {
   "cell_type": "code",
   "execution_count": 7,
   "id": "361dbd72",
   "metadata": {},
   "outputs": [
    {
     "data": {
      "text/html": [
       "<div>\n",
       "<style scoped>\n",
       "    .dataframe tbody tr th:only-of-type {\n",
       "        vertical-align: middle;\n",
       "    }\n",
       "\n",
       "    .dataframe tbody tr th {\n",
       "        vertical-align: top;\n",
       "    }\n",
       "\n",
       "    .dataframe thead th {\n",
       "        text-align: right;\n",
       "    }\n",
       "</style>\n",
       "<table border=\"1\" class=\"dataframe\">\n",
       "  <thead>\n",
       "    <tr style=\"text-align: right;\">\n",
       "      <th></th>\n",
       "      <th>age</th>\n",
       "      <th>job</th>\n",
       "      <th>marital</th>\n",
       "      <th>education</th>\n",
       "      <th>default</th>\n",
       "      <th>housing</th>\n",
       "      <th>loan</th>\n",
       "      <th>employee_variation_rate</th>\n",
       "      <th>consumer_price_index</th>\n",
       "      <th>consumer_confidence_index</th>\n",
       "      <th>euribor</th>\n",
       "      <th>number_employed</th>\n",
       "      <th>contact</th>\n",
       "      <th>Campaign_month</th>\n",
       "      <th>day_of_week</th>\n",
       "      <th>duration</th>\n",
       "      <th>campaign</th>\n",
       "      <th>pdays</th>\n",
       "      <th>previous</th>\n",
       "      <th>poutcome</th>\n",
       "      <th>y</th>\n",
       "      <th>Postal Code</th>\n",
       "      <th>State_Name</th>\n",
       "      <th>City_Name</th>\n",
       "      <th>Region_Name</th>\n",
       "    </tr>\n",
       "    <tr>\n",
       "      <th>Customer_id</th>\n",
       "      <th></th>\n",
       "      <th></th>\n",
       "      <th></th>\n",
       "      <th></th>\n",
       "      <th></th>\n",
       "      <th></th>\n",
       "      <th></th>\n",
       "      <th></th>\n",
       "      <th></th>\n",
       "      <th></th>\n",
       "      <th></th>\n",
       "      <th></th>\n",
       "      <th></th>\n",
       "      <th></th>\n",
       "      <th></th>\n",
       "      <th></th>\n",
       "      <th></th>\n",
       "      <th></th>\n",
       "      <th></th>\n",
       "      <th></th>\n",
       "      <th></th>\n",
       "      <th></th>\n",
       "      <th></th>\n",
       "      <th></th>\n",
       "      <th></th>\n",
       "    </tr>\n",
       "  </thead>\n",
       "  <tbody>\n",
       "    <tr>\n",
       "      <th>1</th>\n",
       "      <td>56</td>\n",
       "      <td>services</td>\n",
       "      <td>married</td>\n",
       "      <td>high school</td>\n",
       "      <td>no</td>\n",
       "      <td>no</td>\n",
       "      <td>yes</td>\n",
       "      <td>1.1</td>\n",
       "      <td>93.994</td>\n",
       "      <td>-36.4</td>\n",
       "      <td>4.857</td>\n",
       "      <td>5191.0</td>\n",
       "      <td>telephone</td>\n",
       "      <td>may</td>\n",
       "      <td>mon</td>\n",
       "      <td>307</td>\n",
       "      <td>1</td>\n",
       "      <td>999</td>\n",
       "      <td>0</td>\n",
       "      <td>nonexistent</td>\n",
       "      <td>no</td>\n",
       "      <td>42420</td>\n",
       "      <td>Kentucky</td>\n",
       "      <td>Henderson</td>\n",
       "      <td>South</td>\n",
       "    </tr>\n",
       "    <tr>\n",
       "      <th>2</th>\n",
       "      <td>45</td>\n",
       "      <td>services</td>\n",
       "      <td>married</td>\n",
       "      <td>basic 9y</td>\n",
       "      <td>unknown</td>\n",
       "      <td>no</td>\n",
       "      <td>no</td>\n",
       "      <td>1.1</td>\n",
       "      <td>93.994</td>\n",
       "      <td>-36.4</td>\n",
       "      <td>4.857</td>\n",
       "      <td>5191.0</td>\n",
       "      <td>telephone</td>\n",
       "      <td>may</td>\n",
       "      <td>mon</td>\n",
       "      <td>198</td>\n",
       "      <td>1</td>\n",
       "      <td>999</td>\n",
       "      <td>0</td>\n",
       "      <td>nonexistent</td>\n",
       "      <td>no</td>\n",
       "      <td>42420</td>\n",
       "      <td>Kentucky</td>\n",
       "      <td>Henderson</td>\n",
       "      <td>South</td>\n",
       "    </tr>\n",
       "    <tr>\n",
       "      <th>3</th>\n",
       "      <td>59</td>\n",
       "      <td>admin</td>\n",
       "      <td>married</td>\n",
       "      <td>professional course</td>\n",
       "      <td>no</td>\n",
       "      <td>no</td>\n",
       "      <td>no</td>\n",
       "      <td>1.1</td>\n",
       "      <td>93.994</td>\n",
       "      <td>-36.4</td>\n",
       "      <td>4.857</td>\n",
       "      <td>5191.0</td>\n",
       "      <td>telephone</td>\n",
       "      <td>may</td>\n",
       "      <td>mon</td>\n",
       "      <td>139</td>\n",
       "      <td>1</td>\n",
       "      <td>999</td>\n",
       "      <td>0</td>\n",
       "      <td>nonexistent</td>\n",
       "      <td>no</td>\n",
       "      <td>90036</td>\n",
       "      <td>California</td>\n",
       "      <td>Los Angeles</td>\n",
       "      <td>West</td>\n",
       "    </tr>\n",
       "    <tr>\n",
       "      <th>4</th>\n",
       "      <td>41</td>\n",
       "      <td>blue collar</td>\n",
       "      <td>married</td>\n",
       "      <td>unknown</td>\n",
       "      <td>unknown</td>\n",
       "      <td>no</td>\n",
       "      <td>no</td>\n",
       "      <td>1.1</td>\n",
       "      <td>93.994</td>\n",
       "      <td>-36.4</td>\n",
       "      <td>4.857</td>\n",
       "      <td>5191.0</td>\n",
       "      <td>telephone</td>\n",
       "      <td>may</td>\n",
       "      <td>mon</td>\n",
       "      <td>217</td>\n",
       "      <td>1</td>\n",
       "      <td>999</td>\n",
       "      <td>0</td>\n",
       "      <td>nonexistent</td>\n",
       "      <td>no</td>\n",
       "      <td>33311</td>\n",
       "      <td>Florida</td>\n",
       "      <td>Fort Lauderdale</td>\n",
       "      <td>South</td>\n",
       "    </tr>\n",
       "    <tr>\n",
       "      <th>5</th>\n",
       "      <td>24</td>\n",
       "      <td>technician</td>\n",
       "      <td>single</td>\n",
       "      <td>professional course</td>\n",
       "      <td>no</td>\n",
       "      <td>yes</td>\n",
       "      <td>no</td>\n",
       "      <td>1.1</td>\n",
       "      <td>93.994</td>\n",
       "      <td>-36.4</td>\n",
       "      <td>4.857</td>\n",
       "      <td>5191.0</td>\n",
       "      <td>telephone</td>\n",
       "      <td>may</td>\n",
       "      <td>mon</td>\n",
       "      <td>380</td>\n",
       "      <td>1</td>\n",
       "      <td>999</td>\n",
       "      <td>0</td>\n",
       "      <td>nonexistent</td>\n",
       "      <td>no</td>\n",
       "      <td>33311</td>\n",
       "      <td>Florida</td>\n",
       "      <td>Fort Lauderdale</td>\n",
       "      <td>South</td>\n",
       "    </tr>\n",
       "  </tbody>\n",
       "</table>\n",
       "</div>"
      ],
      "text/plain": [
       "             age          job  marital            education  default housing  \\\n",
       "Customer_id                                                                    \n",
       "1             56     services  married          high school       no      no   \n",
       "2             45     services  married            basic 9y   unknown      no   \n",
       "3             59        admin  married  professional course       no      no   \n",
       "4             41  blue collar  married              unknown  unknown      no   \n",
       "5             24   technician   single  professional course       no     yes   \n",
       "\n",
       "            loan  employee_variation_rate  consumer_price_index  \\\n",
       "Customer_id                                                       \n",
       "1            yes                      1.1                93.994   \n",
       "2             no                      1.1                93.994   \n",
       "3             no                      1.1                93.994   \n",
       "4             no                      1.1                93.994   \n",
       "5             no                      1.1                93.994   \n",
       "\n",
       "             consumer_confidence_index  euribor  number_employed    contact  \\\n",
       "Customer_id                                                                   \n",
       "1                                -36.4    4.857           5191.0  telephone   \n",
       "2                                -36.4    4.857           5191.0  telephone   \n",
       "3                                -36.4    4.857           5191.0  telephone   \n",
       "4                                -36.4    4.857           5191.0  telephone   \n",
       "5                                -36.4    4.857           5191.0  telephone   \n",
       "\n",
       "            Campaign_month day_of_week  duration  campaign  pdays  previous  \\\n",
       "Customer_id                                                                   \n",
       "1                      may         mon       307         1    999         0   \n",
       "2                      may         mon       198         1    999         0   \n",
       "3                      may         mon       139         1    999         0   \n",
       "4                      may         mon       217         1    999         0   \n",
       "5                      may         mon       380         1    999         0   \n",
       "\n",
       "                poutcome   y  Postal Code  State_Name        City_Name  \\\n",
       "Customer_id                                                              \n",
       "1            nonexistent  no        42420    Kentucky        Henderson   \n",
       "2            nonexistent  no        42420    Kentucky        Henderson   \n",
       "3            nonexistent  no        90036  California      Los Angeles   \n",
       "4            nonexistent  no        33311     Florida  Fort Lauderdale   \n",
       "5            nonexistent  no        33311     Florida  Fort Lauderdale   \n",
       "\n",
       "            Region_Name  \n",
       "Customer_id              \n",
       "1                 South  \n",
       "2                 South  \n",
       "3                  West  \n",
       "4                 South  \n",
       "5                 South  "
      ]
     },
     "execution_count": 7,
     "metadata": {},
     "output_type": "execute_result"
    }
   ],
   "source": [
    "df.head()"
   ]
  },
  {
   "cell_type": "code",
   "execution_count": 8,
   "id": "f9b1dd61",
   "metadata": {},
   "outputs": [
    {
     "data": {
      "text/plain": [
       "(37084, 25)"
      ]
     },
     "execution_count": 8,
     "metadata": {},
     "output_type": "execute_result"
    }
   ],
   "source": [
    "df.shape"
   ]
  },
  {
   "cell_type": "markdown",
   "id": "0127bcfc",
   "metadata": {},
   "source": [
    "### Exploratory data analysis"
   ]
  },
  {
   "cell_type": "markdown",
   "id": "7120530e",
   "metadata": {},
   "source": [
    "### Age"
   ]
  },
  {
   "cell_type": "code",
   "execution_count": 9,
   "id": "28783247",
   "metadata": {},
   "outputs": [
    {
     "data": {
      "text/plain": [
       "count    37084.000000\n",
       "mean        40.042714\n",
       "std         10.432965\n",
       "min         17.000000\n",
       "25%         32.000000\n",
       "50%         38.000000\n",
       "75%         47.000000\n",
       "max         98.000000\n",
       "Name: age, dtype: float64"
      ]
     },
     "execution_count": 9,
     "metadata": {},
     "output_type": "execute_result"
    }
   ],
   "source": [
    "df['age'].describe()"
   ]
  },
  {
   "cell_type": "code",
   "execution_count": 10,
   "id": "160bb63c",
   "metadata": {},
   "outputs": [
    {
     "data": {
      "text/plain": [
       "38.0"
      ]
     },
     "execution_count": 10,
     "metadata": {},
     "output_type": "execute_result"
    }
   ],
   "source": [
    "df['age'].median()"
   ]
  },
  {
   "cell_type": "code",
   "execution_count": 11,
   "id": "e59d0fd0",
   "metadata": {},
   "outputs": [
    {
     "name": "stderr",
     "output_type": "stream",
     "text": [
      "C:\\Users\\akshayd6\\Anaconda3\\lib\\site-packages\\seaborn\\_decorators.py:36: FutureWarning: Pass the following variable as a keyword arg: x. From version 0.12, the only valid positional argument will be `data`, and passing other arguments without an explicit keyword will result in an error or misinterpretation.\n",
      "  warnings.warn(\n"
     ]
    },
    {
     "data": {
      "text/plain": [
       "<AxesSubplot:xlabel='age'>"
      ]
     },
     "execution_count": 11,
     "metadata": {},
     "output_type": "execute_result"
    },
    {
     "data": {
      "image/png": "[encoded data removed]",
      "text/plain": [
       "<Figure size 432x288 with 1 Axes>"
      ]
     },
     "metadata": {
      "needs_background": "light"
     },
     "output_type": "display_data"
    }
   ],
   "source": [
    "sns.boxplot(df['age'])"
   ]
  },
  {
   "cell_type": "code",
   "execution_count": 12,
   "id": "0895add7",
   "metadata": {
    "scrolled": true
   },
   "outputs": [
    {
     "data": {
      "text/plain": [
       "<AxesSubplot:xlabel='age', ylabel='y'>"
      ]
     },
     "execution_count": 12,
     "metadata": {},
     "output_type": "execute_result"
    },
    {
     "data": {
      "image/png": "[encoded data removed]",
      "text/plain": [
       "<Figure size 432x288 with 1 Axes>"
      ]
     },
     "metadata": {
      "needs_background": "light"
     },
     "output_type": "display_data"
    }
   ],
   "source": [
    "sns.lineplot(x = df.age, y = df.y)"
   ]
  },
  {
   "cell_type": "markdown",
   "id": "3badf0ae",
   "metadata": {},
   "source": [
    "<b>From the line plot 3 things can be observed:<br></b><br>\n",
    "    1. People between the age >20-57 generally respond negatively to the campaign.<br>\n",
    "    2. People with age > 57 generally respond positively to the campaign.<br>"
   ]
  },
  {
   "cell_type": "markdown",
   "id": "c2634bd4",
   "metadata": {},
   "source": [
    "### Treating outliers with IQR method and comparing line plots"
   ]
  },
  {
   "cell_type": "code",
   "execution_count": 13,
   "id": "5a7dd655",
   "metadata": {},
   "outputs": [],
   "source": [
    "df1 = df.copy()"
   ]
  },
  {
   "cell_type": "code",
   "execution_count": 14,
   "id": "1480936b",
   "metadata": {},
   "outputs": [],
   "source": [
    "def IQR(data):\n",
    "    Q1 = np.percentile(data, 25)\n",
    "    Q3 = np.percentile(data, 75)\n",
    "    IQR = Q3 - Q1\n",
    "    ul = int(Q3+1.5*IQR)\n",
    "    ll = int(Q1-1.5*IQR)\n",
    "    print(\"Upper limit = \",ul)\n",
    "    print(\"Lower limit = \",ll)\n",
    "    return ul,ll"
   ]
  },
  {
   "cell_type": "code",
   "execution_count": 15,
   "id": "50e45e5c",
   "metadata": {},
   "outputs": [
    {
     "name": "stdout",
     "output_type": "stream",
     "text": [
      "Upper limit =  69\n",
      "Lower limit =  9\n"
     ]
    }
   ],
   "source": [
    "ul,ll = IQR(df.age)"
   ]
  },
  {
   "cell_type": "code",
   "execution_count": 16,
   "id": "965b6afa",
   "metadata": {},
   "outputs": [],
   "source": [
    "def iqrloop(str,ul,ll):\n",
    "    for i in range(df.shape[0]):\n",
    "        if df[str].iloc[i] > ul:\n",
    "            df[str].iloc[i] = ul\n",
    "        elif df[str].iloc[i] <= ll:\n",
    "            df[str].iloc[i] = ll\n",
    "        else:\n",
    "            continue"
   ]
  },
  {
   "cell_type": "code",
   "execution_count": 17,
   "id": "62a4b0f8",
   "metadata": {},
   "outputs": [
    {
     "name": "stderr",
     "output_type": "stream",
     "text": [
      "C:\\Users\\akshayd6\\AppData\\Local\\Temp\\ipykernel_18628\\2373591362.py:4: SettingWithCopyWarning: \n",
      "A value is trying to be set on a copy of a slice from a DataFrame\n",
      "\n",
      "See the caveats in the documentation: https://pandas.pydata.org/pandas-docs/stable/user_guide/indexing.html#returning-a-view-versus-a-copy\n",
      "  df[str].iloc[i] = ul\n"
     ]
    }
   ],
   "source": [
    "if ll<0:\n",
    "    ll = 0\n",
    "iqrloop('age',ul,ll)"
   ]
  },
  {
   "cell_type": "code",
   "execution_count": 18,
   "id": "1211288f",
   "metadata": {},
   "outputs": [
    {
     "name": "stderr",
     "output_type": "stream",
     "text": [
      "C:\\Users\\akshayd6\\Anaconda3\\lib\\site-packages\\seaborn\\_decorators.py:36: FutureWarning: Pass the following variable as a keyword arg: x. From version 0.12, the only valid positional argument will be `data`, and passing other arguments without an explicit keyword will result in an error or misinterpretation.\n",
      "  warnings.warn(\n"
     ]
    },
    {
     "data": {
      "text/plain": [
       "<AxesSubplot:xlabel='age'>"
      ]
     },
     "execution_count": 18,
     "metadata": {},
     "output_type": "execute_result"
    },
    {
     "data": {
      "image/png": "[encoded data removed]",
      "text/plain": [
       "<Figure size 432x288 with 1 Axes>"
      ]
     },
     "metadata": {
      "needs_background": "light"
     },
     "output_type": "display_data"
    }
   ],
   "source": [
    "sns.boxplot(df.age)"
   ]
  },
  {
   "cell_type": "code",
   "execution_count": 19,
   "id": "15722520",
   "metadata": {},
   "outputs": [
    {
     "data": {
      "text/plain": [
       "<AxesSubplot:xlabel='age', ylabel='y'>"
      ]
     },
     "execution_count": 19,
     "metadata": {},
     "output_type": "execute_result"
    },
    {
     "data": {
      "image/png": "[encoded data removed]",
      "text/plain": [
       "<Figure size 432x288 with 1 Axes>"
      ]
     },
     "metadata": {
      "needs_background": "light"
     },
     "output_type": "display_data"
    }
   ],
   "source": [
    "sns.lineplot(x = df.age, y = df.y)"
   ]
  },
  {
   "cell_type": "markdown",
   "id": "088383a0",
   "metadata": {},
   "source": [
    "### Job"
   ]
  },
  {
   "cell_type": "code",
   "execution_count": 20,
   "id": "d57c766a",
   "metadata": {},
   "outputs": [
    {
     "data": {
      "text/plain": [
       "admin            0.254018\n",
       "blue collar      0.224194\n",
       "technician       0.164384\n",
       "services         0.095648\n",
       "management       0.071109\n",
       "retired          0.041554\n",
       "entrepreneur     0.035298\n",
       "self-employed    0.034408\n",
       "housemaid        0.025510\n",
       "unemployed       0.024943\n",
       "student          0.020683\n",
       "unknown          0.008252\n",
       "Name: job, dtype: float64"
      ]
     },
     "execution_count": 20,
     "metadata": {},
     "output_type": "execute_result"
    }
   ],
   "source": [
    "df.job.value_counts(normalize = True)"
   ]
  },
  {
   "cell_type": "markdown",
   "id": "41c70941",
   "metadata": {},
   "source": [
    ">only .02% values are uknown so we can replace it with admin"
   ]
  },
  {
   "cell_type": "code",
   "execution_count": 21,
   "id": "b1657be5",
   "metadata": {},
   "outputs": [
    {
     "name": "stderr",
     "output_type": "stream",
     "text": [
      "C:\\Users\\akshayd6\\AppData\\Local\\Temp\\ipykernel_18628\\1534549118.py:3: SettingWithCopyWarning: \n",
      "A value is trying to be set on a copy of a slice from a DataFrame\n",
      "\n",
      "See the caveats in the documentation: https://pandas.pydata.org/pandas-docs/stable/user_guide/indexing.html#returning-a-view-versus-a-copy\n",
      "  df.job.iloc[i] = 'admin'\n"
     ]
    }
   ],
   "source": [
    "for i in range(df.shape[0]):\n",
    "    if df.job.iloc[i] == 'unknown':\n",
    "        df.job.iloc[i] = 'admin'"
   ]
  },
  {
   "cell_type": "code",
   "execution_count": 22,
   "id": "550b9198",
   "metadata": {},
   "outputs": [
    {
     "data": {
      "text/plain": [
       "admin            0.262269\n",
       "blue collar      0.224194\n",
       "technician       0.164384\n",
       "services         0.095648\n",
       "management       0.071109\n",
       "retired          0.041554\n",
       "entrepreneur     0.035298\n",
       "self-employed    0.034408\n",
       "housemaid        0.025510\n",
       "unemployed       0.024943\n",
       "student          0.020683\n",
       "Name: job, dtype: float64"
      ]
     },
     "execution_count": 22,
     "metadata": {},
     "output_type": "execute_result"
    }
   ],
   "source": [
    "df.job.value_counts(normalize = True)"
   ]
  },
  {
   "cell_type": "code",
   "execution_count": 23,
   "id": "6594d330",
   "metadata": {},
   "outputs": [
    {
     "data": {
      "text/plain": [
       "<AxesSubplot:xlabel='job', ylabel='count'>"
      ]
     },
     "execution_count": 23,
     "metadata": {},
     "output_type": "execute_result"
    },
    {
     "data": {
      "image/png": "[encoded data removed]",
      "text/plain": [
       "<Figure size 1080x360 with 1 Axes>"
      ]
     },
     "metadata": {
      "needs_background": "light"
     },
     "output_type": "display_data"
    }
   ],
   "source": [
    "plt.figure(figsize = (15,5))\n",
    "sns.countplot(x = df.job)"
   ]
  },
  {
   "cell_type": "markdown",
   "id": "4d6b2749",
   "metadata": {},
   "source": [
    "### Marital status"
   ]
  },
  {
   "cell_type": "code",
   "execution_count": 24,
   "id": "165f4adc",
   "metadata": {},
   "outputs": [
    {
     "data": {
      "text/plain": [
       "married     0.606164\n",
       "single      0.280633\n",
       "divorced    0.111261\n",
       "unknown     0.001942\n",
       "Name: marital, dtype: float64"
      ]
     },
     "execution_count": 24,
     "metadata": {},
     "output_type": "execute_result"
    }
   ],
   "source": [
    "df.marital.value_counts(normalize = True)"
   ]
  },
  {
   "cell_type": "markdown",
   "id": "cc5fe3fc",
   "metadata": {},
   "source": [
    ">unknown is only 0.002% so we can replace it with married"
   ]
  },
  {
   "cell_type": "code",
   "execution_count": 25,
   "id": "de829787",
   "metadata": {},
   "outputs": [
    {
     "name": "stderr",
     "output_type": "stream",
     "text": [
      "C:\\Users\\akshayd6\\AppData\\Local\\Temp\\ipykernel_18628\\2111152359.py:3: SettingWithCopyWarning: \n",
      "A value is trying to be set on a copy of a slice from a DataFrame\n",
      "\n",
      "See the caveats in the documentation: https://pandas.pydata.org/pandas-docs/stable/user_guide/indexing.html#returning-a-view-versus-a-copy\n",
      "  df.marital.iloc[i] = 'married'\n"
     ]
    }
   ],
   "source": [
    "for i in range(df.shape[0]):\n",
    "    if df.marital.iloc[i] == 'unknown':\n",
    "        df.marital.iloc[i] = 'married'"
   ]
  },
  {
   "cell_type": "code",
   "execution_count": 26,
   "id": "e71a010f",
   "metadata": {},
   "outputs": [
    {
     "data": {
      "text/plain": [
       "married     0.608106\n",
       "single      0.280633\n",
       "divorced    0.111261\n",
       "Name: marital, dtype: float64"
      ]
     },
     "execution_count": 26,
     "metadata": {},
     "output_type": "execute_result"
    }
   ],
   "source": [
    "df.marital.value_counts(normalize = True)"
   ]
  },
  {
   "cell_type": "code",
   "execution_count": 27,
   "id": "415a4c6f",
   "metadata": {},
   "outputs": [
    {
     "data": {
      "text/plain": [
       "<AxesSubplot:xlabel='marital', ylabel='count'>"
      ]
     },
     "execution_count": 27,
     "metadata": {},
     "output_type": "execute_result"
    },
    {
     "data": {
      "image/png": "[encoded data removed]",
      "text/plain": [
       "<Figure size 1080x360 with 1 Axes>"
      ]
     },
     "metadata": {
      "needs_background": "light"
     },
     "output_type": "display_data"
    }
   ],
   "source": [
    "plt.figure(figsize = (15,5))\n",
    "sns.countplot(x = df.marital)"
   ]
  },
  {
   "cell_type": "markdown",
   "id": "de9d842b",
   "metadata": {},
   "source": [
    "### Education"
   ]
  },
  {
   "cell_type": "code",
   "execution_count": 28,
   "id": "33b46417",
   "metadata": {},
   "outputs": [
    {
     "data": {
      "text/plain": [
       "university degree      0.295842\n",
       "high school            0.230342\n",
       "basic 9y               0.146182\n",
       "professional course    0.127980\n",
       "basic 4y               0.101526\n",
       "basic 6y               0.055927\n",
       "unknown                0.041770\n",
       "illiterate             0.000431\n",
       "Name: education, dtype: float64"
      ]
     },
     "execution_count": 28,
     "metadata": {},
     "output_type": "execute_result"
    }
   ],
   "source": [
    "df.education.value_counts(normalize = True)"
   ]
  },
  {
   "cell_type": "markdown",
   "id": "110aafa0",
   "metadata": {},
   "source": [
    ">Here unknown values only amounts to 4% so this can be replaced with university degree"
   ]
  },
  {
   "cell_type": "code",
   "execution_count": 29,
   "id": "2cf7562d",
   "metadata": {},
   "outputs": [
    {
     "name": "stderr",
     "output_type": "stream",
     "text": [
      "C:\\Users\\akshayd6\\AppData\\Local\\Temp\\ipykernel_18628\\1206357953.py:3: SettingWithCopyWarning: \n",
      "A value is trying to be set on a copy of a slice from a DataFrame\n",
      "\n",
      "See the caveats in the documentation: https://pandas.pydata.org/pandas-docs/stable/user_guide/indexing.html#returning-a-view-versus-a-copy\n",
      "  df.education.iloc[i] = 'university degree'\n"
     ]
    }
   ],
   "source": [
    "for i in range(df.shape[0]):\n",
    "    if df.education.iloc[i] == 'unknown':\n",
    "        df.education.iloc[i] = 'university degree'"
   ]
  },
  {
   "cell_type": "code",
   "execution_count": 30,
   "id": "251995cb",
   "metadata": {},
   "outputs": [
    {
     "data": {
      "text/plain": [
       "<AxesSubplot:xlabel='education', ylabel='count'>"
      ]
     },
     "execution_count": 30,
     "metadata": {},
     "output_type": "execute_result"
    },
    {
     "data": {
      "image/png": "[encoded data removed]",
      "text/plain": [
       "<Figure size 1080x360 with 1 Axes>"
      ]
     },
     "metadata": {
      "needs_background": "light"
     },
     "output_type": "display_data"
    }
   ],
   "source": [
    "plt.figure(figsize = (15,5))\n",
    "sns.countplot(x = df.education)"
   ]
  },
  {
   "cell_type": "markdown",
   "id": "9b4cd7e8",
   "metadata": {},
   "source": [
    "### Default"
   ]
  },
  {
   "cell_type": "code",
   "execution_count": 31,
   "id": "db255a3d",
   "metadata": {},
   "outputs": [
    {
     "data": {
      "text/plain": [
       "no         0.792309\n",
       "unknown    0.207637\n",
       "yes        0.000054\n",
       "Name: default, dtype: float64"
      ]
     },
     "execution_count": 31,
     "metadata": {},
     "output_type": "execute_result"
    }
   ],
   "source": [
    "df.default.value_counts(normalize = True)"
   ]
  },
  {
   "cell_type": "code",
   "execution_count": 32,
   "id": "f8702c0d",
   "metadata": {},
   "outputs": [
    {
     "data": {
      "text/plain": [
       "<AxesSubplot:xlabel='default', ylabel='count'>"
      ]
     },
     "execution_count": 32,
     "metadata": {},
     "output_type": "execute_result"
    },
    {
     "data": {
      "image/png": "[encoded data removed]",
      "text/plain": [
       "<Figure size 1080x360 with 1 Axes>"
      ]
     },
     "metadata": {
      "needs_background": "light"
     },
     "output_type": "display_data"
    }
   ],
   "source": [
    "plt.figure(figsize = (15,5))\n",
    "sns.countplot(x = df.default)"
   ]
  },
  {
   "cell_type": "markdown",
   "id": "0e034133",
   "metadata": {},
   "source": [
    ">Let's keep it untouched for now. We will perform statistical tests to check whether this variable influences the taget variable."
   ]
  },
  {
   "cell_type": "markdown",
   "id": "121442dd",
   "metadata": {},
   "source": [
    "### Housing"
   ]
  },
  {
   "cell_type": "code",
   "execution_count": 33,
   "id": "128ddaa7",
   "metadata": {},
   "outputs": [
    {
     "data": {
      "text/plain": [
       "yes        0.524027\n",
       "no         0.452190\n",
       "unknown    0.023784\n",
       "Name: housing, dtype: float64"
      ]
     },
     "execution_count": 33,
     "metadata": {},
     "output_type": "execute_result"
    }
   ],
   "source": [
    "df.housing.value_counts(normalize = True)"
   ]
  },
  {
   "cell_type": "markdown",
   "id": "2bbe2f82",
   "metadata": {},
   "source": [
    ">Here unknown values amount only to 2% so it can be replaced with yes"
   ]
  },
  {
   "cell_type": "code",
   "execution_count": 34,
   "id": "02fc0b7a",
   "metadata": {},
   "outputs": [
    {
     "name": "stderr",
     "output_type": "stream",
     "text": [
      "C:\\Users\\akshayd6\\AppData\\Local\\Temp\\ipykernel_18628\\444130107.py:3: SettingWithCopyWarning: \n",
      "A value is trying to be set on a copy of a slice from a DataFrame\n",
      "\n",
      "See the caveats in the documentation: https://pandas.pydata.org/pandas-docs/stable/user_guide/indexing.html#returning-a-view-versus-a-copy\n",
      "  df.housing.iloc[i] = 'yes'\n"
     ]
    }
   ],
   "source": [
    "for i in range(df.shape[0]):\n",
    "    if df.housing.iloc[i] == 'unknown':\n",
    "        df.housing.iloc[i] = 'yes'"
   ]
  },
  {
   "cell_type": "code",
   "execution_count": 35,
   "id": "a3f5d27a",
   "metadata": {},
   "outputs": [
    {
     "data": {
      "text/plain": [
       "<AxesSubplot:xlabel='housing', ylabel='count'>"
      ]
     },
     "execution_count": 35,
     "metadata": {},
     "output_type": "execute_result"
    },
    {
     "data": {
      "image/png": "[encoded data removed]",
      "text/plain": [
       "<Figure size 1080x360 with 1 Axes>"
      ]
     },
     "metadata": {
      "needs_background": "light"
     },
     "output_type": "display_data"
    }
   ],
   "source": [
    "plt.figure(figsize = (15,5))\n",
    "sns.countplot(x = df.housing)"
   ]
  },
  {
   "cell_type": "markdown",
   "id": "af9b98a7",
   "metadata": {},
   "source": [
    "### Loan"
   ]
  },
  {
   "cell_type": "code",
   "execution_count": 36,
   "id": "ad4de413",
   "metadata": {},
   "outputs": [
    {
     "data": {
      "text/plain": [
       "no         0.824102\n",
       "yes        0.152114\n",
       "unknown    0.023784\n",
       "Name: loan, dtype: float64"
      ]
     },
     "execution_count": 36,
     "metadata": {},
     "output_type": "execute_result"
    }
   ],
   "source": [
    "df.loan.value_counts(normalize = True)"
   ]
  },
  {
   "cell_type": "markdown",
   "id": "5f422ea8",
   "metadata": {},
   "source": [
    ">Here unknown only amounts to 2%. so we can replace it with no"
   ]
  },
  {
   "cell_type": "code",
   "execution_count": 37,
   "id": "b7a9dd84",
   "metadata": {},
   "outputs": [
    {
     "name": "stderr",
     "output_type": "stream",
     "text": [
      "C:\\Users\\akshayd6\\AppData\\Local\\Temp\\ipykernel_18628\\237063864.py:3: SettingWithCopyWarning: \n",
      "A value is trying to be set on a copy of a slice from a DataFrame\n",
      "\n",
      "See the caveats in the documentation: https://pandas.pydata.org/pandas-docs/stable/user_guide/indexing.html#returning-a-view-versus-a-copy\n",
      "  df.loan.iloc[i] = 'no'\n"
     ]
    }
   ],
   "source": [
    "for i in range(df.shape[0]):\n",
    "    if df.loan.iloc[i] == 'unknown':\n",
    "        df.loan.iloc[i] = 'no'"
   ]
  },
  {
   "cell_type": "code",
   "execution_count": 38,
   "id": "c82fa108",
   "metadata": {},
   "outputs": [
    {
     "data": {
      "text/plain": [
       "<AxesSubplot:xlabel='loan', ylabel='count'>"
      ]
     },
     "execution_count": 38,
     "metadata": {},
     "output_type": "execute_result"
    },
    {
     "data": {
      "image/png": "[encoded data removed]",
      "text/plain": [
       "<Figure size 1080x360 with 1 Axes>"
      ]
     },
     "metadata": {
      "needs_background": "light"
     },
     "output_type": "display_data"
    }
   ],
   "source": [
    "plt.figure(figsize = (15,5))\n",
    "sns.countplot(x = df.loan)"
   ]
  },
  {
   "cell_type": "markdown",
   "id": "2a987671",
   "metadata": {},
   "source": [
    "### Employee Variation Rate, Consumer price index, Consumer Confidence index, Euribor, Number employed"
   ]
  },
  {
   "cell_type": "code",
   "execution_count": 39,
   "id": "edd6e66d",
   "metadata": {},
   "outputs": [
    {
     "data": {
      "text/plain": [
       " 1.4    0.393647\n",
       "-1.8    0.223681\n",
       " 1.1    0.188761\n",
       "-0.1    0.089769\n",
       "-2.9    0.040017\n",
       "-3.4    0.025564\n",
       "-1.7    0.018768\n",
       "-1.1    0.015317\n",
       "-3.0    0.004234\n",
       "-0.2    0.000243\n",
       "Name: employee_variation_rate, dtype: float64"
      ]
     },
     "execution_count": 39,
     "metadata": {},
     "output_type": "execute_result"
    }
   ],
   "source": [
    "df.employee_variation_rate.value_counts(normalize = True)"
   ]
  },
  {
   "cell_type": "code",
   "execution_count": 40,
   "id": "495762b0",
   "metadata": {},
   "outputs": [
    {
     "data": {
      "text/plain": [
       "93.994    0.188761\n",
       "93.918    0.161390\n",
       "92.893    0.140815\n",
       "93.444    0.125769\n",
       "94.465    0.106488\n",
       "93.200    0.088070\n",
       "93.075    0.060026\n",
       "92.201    0.018660\n",
       "92.963    0.016961\n",
       "92.431    0.010544\n",
       "92.649    0.008656\n",
       "94.215    0.007604\n",
       "94.199    0.007389\n",
       "92.843    0.006768\n",
       "93.369    0.006364\n",
       "92.379    0.006364\n",
       "94.055    0.005609\n",
       "94.027    0.005555\n",
       "93.876    0.005339\n",
       "94.601    0.004746\n",
       "92.469    0.004395\n",
       "93.749    0.004368\n",
       "92.713    0.004234\n",
       "94.767    0.003182\n",
       "93.798    0.001699\n",
       "92.756    0.000243\n",
       "Name: consumer_price_index, dtype: float64"
      ]
     },
     "execution_count": 40,
     "metadata": {},
     "output_type": "execute_result"
    }
   ],
   "source": [
    "df.consumer_price_index.value_counts(normalize = True)"
   ]
  },
  {
   "cell_type": "code",
   "execution_count": 41,
   "id": "7d838fa4",
   "metadata": {},
   "outputs": [
    {
     "data": {
      "text/plain": [
       "-36.4    0.188761\n",
       "-42.7    0.161390\n",
       "-46.2    0.140815\n",
       "-36.1    0.125769\n",
       "-41.8    0.106488\n",
       "-42.0    0.088070\n",
       "-47.1    0.060026\n",
       "-31.4    0.018660\n",
       "-40.8    0.016961\n",
       "-26.9    0.010544\n",
       "-30.1    0.008656\n",
       "-40.3    0.007604\n",
       "-37.5    0.007389\n",
       "-50.0    0.006768\n",
       "-34.8    0.006364\n",
       "-29.8    0.006364\n",
       "-39.8    0.005609\n",
       "-38.3    0.005555\n",
       "-40.0    0.005339\n",
       "-49.5    0.004746\n",
       "-33.6    0.004395\n",
       "-34.6    0.004368\n",
       "-33.0    0.004234\n",
       "-50.8    0.003182\n",
       "-40.4    0.001699\n",
       "-45.9    0.000243\n",
       "Name: consumer_confidence_index, dtype: float64"
      ]
     },
     "execution_count": 41,
     "metadata": {},
     "output_type": "execute_result"
    }
   ],
   "source": [
    "df.consumer_confidence_index.value_counts(normalize = True)"
   ]
  },
  {
   "cell_type": "code",
   "execution_count": 42,
   "id": "b5a97611",
   "metadata": {},
   "outputs": [
    {
     "data": {
      "text/plain": [
       "4.857    0.070327\n",
       "4.962    0.063424\n",
       "4.963    0.060484\n",
       "4.961    0.045815\n",
       "4.856    0.029069\n",
       "           ...   \n",
       "3.816    0.000027\n",
       "0.933    0.000027\n",
       "3.853    0.000027\n",
       "1.574    0.000027\n",
       "3.879    0.000027\n",
       "Name: euribor, Length: 314, dtype: float64"
      ]
     },
     "execution_count": 42,
     "metadata": {},
     "output_type": "execute_result"
    }
   ],
   "source": [
    "df.euribor.value_counts(normalize = True)"
   ]
  },
  {
   "cell_type": "code",
   "execution_count": 43,
   "id": "3001f8fc",
   "metadata": {},
   "outputs": [
    {
     "data": {
      "text/plain": [
       "5228.1    0.393647\n",
       "5099.1    0.207610\n",
       "5191.0    0.188761\n",
       "5195.8    0.089769\n",
       "5076.2    0.040017\n",
       "5017.5    0.025564\n",
       "4991.6    0.018768\n",
       "5008.7    0.016072\n",
       "4963.6    0.015317\n",
       "5023.5    0.004234\n",
       "5176.3    0.000243\n",
       "Name: number_employed, dtype: float64"
      ]
     },
     "execution_count": 43,
     "metadata": {},
     "output_type": "execute_result"
    }
   ],
   "source": [
    "df.number_employed.value_counts(normalize = True)"
   ]
  },
  {
   "cell_type": "markdown",
   "id": "82f5ce5b",
   "metadata": {},
   "source": [
    "### Contact"
   ]
  },
  {
   "cell_type": "code",
   "execution_count": 44,
   "id": "e0b7c8fd",
   "metadata": {},
   "outputs": [
    {
     "data": {
      "text/plain": [
       "cellular     0.63429\n",
       "telephone    0.36571\n",
       "Name: contact, dtype: float64"
      ]
     },
     "execution_count": 44,
     "metadata": {},
     "output_type": "execute_result"
    }
   ],
   "source": [
    "df.contact.value_counts(normalize = True)"
   ]
  },
  {
   "cell_type": "code",
   "execution_count": 45,
   "id": "f114411b",
   "metadata": {},
   "outputs": [
    {
     "data": {
      "text/plain": [
       "may    0.334915\n",
       "jul    0.173390\n",
       "aug    0.149984\n",
       "jun    0.129058\n",
       "nov    0.099908\n",
       "apr    0.064394\n",
       "oct    0.016988\n",
       "sep    0.013753\n",
       "mar    0.013132\n",
       "dec    0.004476\n",
       "Name: Campaign_month, dtype: float64"
      ]
     },
     "execution_count": 45,
     "metadata": {},
     "output_type": "execute_result"
    }
   ],
   "source": [
    "df.Campaign_month.value_counts(normalize = True)"
   ]
  },
  {
   "cell_type": "code",
   "execution_count": 46,
   "id": "3007383f",
   "metadata": {},
   "outputs": [
    {
     "name": "stderr",
     "output_type": "stream",
     "text": [
      "C:\\Users\\akshayd6\\Anaconda3\\lib\\site-packages\\seaborn\\_decorators.py:36: FutureWarning: Pass the following variable as a keyword arg: x. From version 0.12, the only valid positional argument will be `data`, and passing other arguments without an explicit keyword will result in an error or misinterpretation.\n",
      "  warnings.warn(\n"
     ]
    },
    {
     "data": {
      "text/plain": [
       "<AxesSubplot:xlabel='Campaign_month', ylabel='count'>"
      ]
     },
     "execution_count": 46,
     "metadata": {},
     "output_type": "execute_result"
    },
    {
     "data": {
      "image/png": "[encoded data removed]",
      "text/plain": [
       "<Figure size 1080x360 with 1 Axes>"
      ]
     },
     "metadata": {
      "needs_background": "light"
     },
     "output_type": "display_data"
    }
   ],
   "source": [
    "plt.figure(figsize = (15,5))\n",
    "sns.countplot(df.Campaign_month)"
   ]
  },
  {
   "cell_type": "markdown",
   "id": "ec7e6d8e",
   "metadata": {},
   "source": [
    "### Day of Week"
   ]
  },
  {
   "cell_type": "code",
   "execution_count": 47,
   "id": "01bc6cf2",
   "metadata": {},
   "outputs": [
    {
     "data": {
      "text/plain": [
       "thu    0.209740\n",
       "mon    0.206855\n",
       "wed    0.197956\n",
       "tue    0.195826\n",
       "fri    0.189624\n",
       "Name: day_of_week, dtype: float64"
      ]
     },
     "execution_count": 47,
     "metadata": {},
     "output_type": "execute_result"
    }
   ],
   "source": [
    "df.day_of_week.value_counts(normalize = True)"
   ]
  },
  {
   "cell_type": "code",
   "execution_count": 48,
   "id": "bac90af6",
   "metadata": {},
   "outputs": [
    {
     "name": "stderr",
     "output_type": "stream",
     "text": [
      "C:\\Users\\akshayd6\\Anaconda3\\lib\\site-packages\\seaborn\\_decorators.py:36: FutureWarning: Pass the following variable as a keyword arg: x. From version 0.12, the only valid positional argument will be `data`, and passing other arguments without an explicit keyword will result in an error or misinterpretation.\n",
      "  warnings.warn(\n"
     ]
    },
    {
     "data": {
      "text/plain": [
       "<AxesSubplot:xlabel='day_of_week', ylabel='count'>"
      ]
     },
     "execution_count": 48,
     "metadata": {},
     "output_type": "execute_result"
    },
    {
     "data": {
      "image/png": "[encoded data removed]",
      "text/plain": [
       "<Figure size 1080x360 with 1 Axes>"
      ]
     },
     "metadata": {
      "needs_background": "light"
     },
     "output_type": "display_data"
    }
   ],
   "source": [
    "plt.figure(figsize = (15,5))\n",
    "sns.countplot(df.day_of_week)"
   ]
  },
  {
   "cell_type": "markdown",
   "id": "c30a6916",
   "metadata": {},
   "source": [
    "### Duration"
   ]
  },
  {
   "cell_type": "code",
   "execution_count": 49,
   "id": "38ccd588",
   "metadata": {},
   "outputs": [
    {
     "data": {
      "text/plain": [
       "count    37084.000000\n",
       "mean       258.237946\n",
       "std        258.730909\n",
       "min          0.000000\n",
       "25%        102.000000\n",
       "50%        180.000000\n",
       "75%        319.250000\n",
       "max       4918.000000\n",
       "Name: duration, dtype: float64"
      ]
     },
     "execution_count": 49,
     "metadata": {},
     "output_type": "execute_result"
    }
   ],
   "source": [
    "df.duration.describe()"
   ]
  },
  {
   "cell_type": "code",
   "execution_count": 50,
   "id": "6c4c1897",
   "metadata": {},
   "outputs": [
    {
     "name": "stderr",
     "output_type": "stream",
     "text": [
      "C:\\Users\\akshayd6\\Anaconda3\\lib\\site-packages\\seaborn\\_decorators.py:36: FutureWarning: Pass the following variable as a keyword arg: x. From version 0.12, the only valid positional argument will be `data`, and passing other arguments without an explicit keyword will result in an error or misinterpretation.\n",
      "  warnings.warn(\n"
     ]
    },
    {
     "data": {
      "text/plain": [
       "<AxesSubplot:xlabel='duration'>"
      ]
     },
     "execution_count": 50,
     "metadata": {},
     "output_type": "execute_result"
    },
    {
     "data": {
      "image/png": "[encoded data removed]",
      "text/plain": [
       "<Figure size 432x288 with 1 Axes>"
      ]
     },
     "metadata": {
      "needs_background": "light"
     },
     "output_type": "display_data"
    }
   ],
   "source": [
    "sns.boxplot(df.duration)"
   ]
  },
  {
   "cell_type": "code",
   "execution_count": 51,
   "id": "29c0d73b",
   "metadata": {},
   "outputs": [
    {
     "name": "stdout",
     "output_type": "stream",
     "text": [
      "Upper limit =  645\n",
      "Lower limit =  -223\n"
     ]
    }
   ],
   "source": [
    "ul,ll = IQR(df.duration)"
   ]
  },
  {
   "cell_type": "code",
   "execution_count": 52,
   "id": "27c51743",
   "metadata": {
    "scrolled": true
   },
   "outputs": [
    {
     "name": "stderr",
     "output_type": "stream",
     "text": [
      "C:\\Users\\akshayd6\\AppData\\Local\\Temp\\ipykernel_18628\\2373591362.py:4: SettingWithCopyWarning: \n",
      "A value is trying to be set on a copy of a slice from a DataFrame\n",
      "\n",
      "See the caveats in the documentation: https://pandas.pydata.org/pandas-docs/stable/user_guide/indexing.html#returning-a-view-versus-a-copy\n",
      "  df[str].iloc[i] = ul\n",
      "C:\\Users\\akshayd6\\AppData\\Local\\Temp\\ipykernel_18628\\2373591362.py:6: SettingWithCopyWarning: \n",
      "A value is trying to be set on a copy of a slice from a DataFrame\n",
      "\n",
      "See the caveats in the documentation: https://pandas.pydata.org/pandas-docs/stable/user_guide/indexing.html#returning-a-view-versus-a-copy\n",
      "  df[str].iloc[i] = ll\n"
     ]
    }
   ],
   "source": [
    "if ll<0:\n",
    "    ll = 0\n",
    "iqrloop('duration',ul,ll)"
   ]
  },
  {
   "cell_type": "code",
   "execution_count": 53,
   "id": "dca4ed62",
   "metadata": {},
   "outputs": [
    {
     "name": "stderr",
     "output_type": "stream",
     "text": [
      "C:\\Users\\akshayd6\\Anaconda3\\lib\\site-packages\\seaborn\\_decorators.py:36: FutureWarning: Pass the following variable as a keyword arg: x. From version 0.12, the only valid positional argument will be `data`, and passing other arguments without an explicit keyword will result in an error or misinterpretation.\n",
      "  warnings.warn(\n"
     ]
    },
    {
     "data": {
      "text/plain": [
       "<AxesSubplot:xlabel='duration'>"
      ]
     },
     "execution_count": 53,
     "metadata": {},
     "output_type": "execute_result"
    },
    {
     "data": {
      "image/png": "[encoded data removed]",
      "text/plain": [
       "<Figure size 432x288 with 1 Axes>"
      ]
     },
     "metadata": {
      "needs_background": "light"
     },
     "output_type": "display_data"
    }
   ],
   "source": [
    "sns.boxplot(df.duration)"
   ]
  },
  {
   "cell_type": "markdown",
   "id": "17895037",
   "metadata": {},
   "source": [
    "### Campaign"
   ]
  },
  {
   "cell_type": "code",
   "execution_count": 54,
   "id": "20b4f891",
   "metadata": {},
   "outputs": [
    {
     "data": {
      "text/plain": [
       "count    37084.000000\n",
       "mean         2.569545\n",
       "std          2.770611\n",
       "min          1.000000\n",
       "25%          1.000000\n",
       "50%          2.000000\n",
       "75%          3.000000\n",
       "max         56.000000\n",
       "Name: campaign, dtype: float64"
      ]
     },
     "execution_count": 54,
     "metadata": {},
     "output_type": "execute_result"
    }
   ],
   "source": [
    "df.campaign.describe()"
   ]
  },
  {
   "cell_type": "code",
   "execution_count": 55,
   "id": "02535a87",
   "metadata": {},
   "outputs": [
    {
     "data": {
      "text/plain": [
       "count    37084.000000\n",
       "mean       962.530849\n",
       "std        186.773063\n",
       "min          0.000000\n",
       "25%        999.000000\n",
       "50%        999.000000\n",
       "75%        999.000000\n",
       "max        999.000000\n",
       "Name: pdays, dtype: float64"
      ]
     },
     "execution_count": 55,
     "metadata": {},
     "output_type": "execute_result"
    }
   ],
   "source": [
    "df.pdays.describe()"
   ]
  },
  {
   "cell_type": "code",
   "execution_count": 56,
   "id": "8bf38b93",
   "metadata": {},
   "outputs": [
    {
     "data": {
      "text/plain": [
       "999    0.963273\n",
       "3      0.010732\n",
       "6      0.009735\n",
       "4      0.002831\n",
       "9      0.001537\n",
       "2      0.001510\n",
       "12     0.001456\n",
       "7      0.001375\n",
       "10     0.001240\n",
       "5      0.001160\n",
       "13     0.000917\n",
       "11     0.000755\n",
       "1      0.000674\n",
       "14     0.000539\n",
       "15     0.000512\n",
       "8      0.000485\n",
       "0      0.000324\n",
       "16     0.000297\n",
       "17     0.000216\n",
       "18     0.000108\n",
       "22     0.000081\n",
       "19     0.000081\n",
       "21     0.000054\n",
       "25     0.000027\n",
       "26     0.000027\n",
       "27     0.000027\n",
       "20     0.000027\n",
       "Name: pdays, dtype: float64"
      ]
     },
     "execution_count": 56,
     "metadata": {},
     "output_type": "execute_result"
    }
   ],
   "source": [
    "df.pdays.value_counts(normalize = True)"
   ]
  },
  {
   "cell_type": "code",
   "execution_count": 57,
   "id": "009d025d",
   "metadata": {},
   "outputs": [
    {
     "data": {
      "text/plain": [
       "0    0.863526\n",
       "1    0.110587\n",
       "2    0.018418\n",
       "3    0.005124\n",
       "4    0.001726\n",
       "5    0.000458\n",
       "6    0.000135\n",
       "7    0.000027\n",
       "Name: previous, dtype: float64"
      ]
     },
     "execution_count": 57,
     "metadata": {},
     "output_type": "execute_result"
    }
   ],
   "source": [
    "df.previous.value_counts(normalize = True)"
   ]
  },
  {
   "cell_type": "code",
   "execution_count": 58,
   "id": "49fea32b",
   "metadata": {},
   "outputs": [
    {
     "data": {
      "text/plain": [
       "nonexistent    0.863526\n",
       "failure        0.103063\n",
       "success        0.033411\n",
       "Name: poutcome, dtype: float64"
      ]
     },
     "execution_count": 58,
     "metadata": {},
     "output_type": "execute_result"
    }
   ],
   "source": [
    "df.poutcome.value_counts(normalize = True)"
   ]
  },
  {
   "cell_type": "code",
   "execution_count": 59,
   "id": "6b056a7a",
   "metadata": {},
   "outputs": [
    {
     "data": {
      "text/plain": [
       "no     0.886528\n",
       "yes    0.113472\n",
       "Name: y, dtype: float64"
      ]
     },
     "execution_count": 59,
     "metadata": {},
     "output_type": "execute_result"
    }
   ],
   "source": [
    "df.y.value_counts(normalize = True)"
   ]
  },
  {
   "cell_type": "code",
   "execution_count": 60,
   "id": "906fec17",
   "metadata": {},
   "outputs": [
    {
     "data": {
      "text/plain": [
       "10035    0.026265\n",
       "10009    0.023325\n",
       "10024    0.022921\n",
       "94122    0.020332\n",
       "10011    0.019766\n",
       "           ...   \n",
       "57401    0.000081\n",
       "60441    0.000081\n",
       "34741    0.000081\n",
       "6810     0.000081\n",
       "44035    0.000081\n",
       "Name: Postal Code, Length: 631, dtype: float64"
      ]
     },
     "execution_count": 60,
     "metadata": {},
     "output_type": "execute_result"
    }
   ],
   "source": [
    "df['Postal Code'].value_counts(normalize = True)"
   ]
  },
  {
   "cell_type": "code",
   "execution_count": 61,
   "id": "cb8b71ad",
   "metadata": {},
   "outputs": [
    {
     "data": {
      "text/plain": [
       "California              0.200275\n",
       "New York                0.113580\n",
       "Texas                   0.097454\n",
       "Pennsylvania            0.058785\n",
       "Washington              0.050723\n",
       "Illinois                0.048862\n",
       "Ohio                    0.046705\n",
       "Florida                 0.038022\n",
       "Michigan                0.025860\n",
       "North Carolina          0.024809\n",
       "Arizona                 0.022759\n",
       "Virginia                0.021896\n",
       "Georgia                 0.018660\n",
       "Colorado                0.018364\n",
       "Tennessee               0.017744\n",
       "Indiana                 0.015155\n",
       "Kentucky                0.014022\n",
       "Massachusetts           0.013240\n",
       "New Jersey              0.012917\n",
       "Oregon                  0.012404\n",
       "Wisconsin               0.010894\n",
       "Maryland                0.010625\n",
       "Delaware                0.009519\n",
       "Minnesota               0.009357\n",
       "Connecticut             0.008171\n",
       "Oklahoma                0.006688\n",
       "Missouri                0.006607\n",
       "Alabama                 0.006337\n",
       "Arkansas                0.006202\n",
       "Utah                    0.005528\n",
       "Rhode Island            0.005501\n",
       "Mississippi             0.005366\n",
       "South Carolina          0.004530\n",
       "Louisiana               0.004368\n",
       "New Mexico              0.003775\n",
       "Nevada                  0.003748\n",
       "Nebraska                0.003667\n",
       "Iowa                    0.002939\n",
       "New Hampshire           0.002751\n",
       "Kansas                  0.002454\n",
       "Idaho                   0.002103\n",
       "Montana                 0.001483\n",
       "South Dakota            0.001213\n",
       "District of Columbia    0.001079\n",
       "Vermont                 0.000944\n",
       "Maine                   0.000782\n",
       "North Dakota            0.000701\n",
       "West Virginia           0.000324\n",
       "Wyoming                 0.000108\n",
       "Name: State_Name, dtype: float64"
      ]
     },
     "execution_count": 61,
     "metadata": {},
     "output_type": "execute_result"
    }
   ],
   "source": [
    "df.State_Name.value_counts(normalize = True)"
   ]
  },
  {
   "cell_type": "code",
   "execution_count": 62,
   "id": "691f991a",
   "metadata": {},
   "outputs": [
    {
     "data": {
      "text/plain": [
       "New York City        0.092277\n",
       "Los Angeles          0.074992\n",
       "Philadelphia         0.053824\n",
       "San Francisco        0.051397\n",
       "Seattle              0.042876\n",
       "                       ...   \n",
       "Davis                0.000081\n",
       "Arlington Heights    0.000081\n",
       "San Luis Obispo      0.000081\n",
       "Springdale           0.000081\n",
       "Danbury              0.000081\n",
       "Name: City_Name, Length: 531, dtype: float64"
      ]
     },
     "execution_count": 62,
     "metadata": {},
     "output_type": "execute_result"
    }
   ],
   "source": [
    "df.City_Name.value_counts(normalize = True)"
   ]
  },
  {
   "cell_type": "code",
   "execution_count": 63,
   "id": "4f282cd7",
   "metadata": {},
   "outputs": [
    {
     "data": {
      "text/plain": [
       "West       0.320462\n",
       "East       0.284705\n",
       "Central    0.231636\n",
       "South      0.161579\n",
       "X          0.001618\n",
       "Name: Region_Name, dtype: float64"
      ]
     },
     "execution_count": 63,
     "metadata": {},
     "output_type": "execute_result"
    }
   ],
   "source": [
    "df.Region_Name.value_counts(normalize = True)"
   ]
  },
  {
   "cell_type": "code",
   "execution_count": 64,
   "id": "fdf1eb45",
   "metadata": {},
   "outputs": [
    {
     "name": "stderr",
     "output_type": "stream",
     "text": [
      "C:\\Users\\akshayd6\\AppData\\Local\\Temp\\ipykernel_18628\\1166731461.py:3: SettingWithCopyWarning: \n",
      "A value is trying to be set on a copy of a slice from a DataFrame\n",
      "\n",
      "See the caveats in the documentation: https://pandas.pydata.org/pandas-docs/stable/user_guide/indexing.html#returning-a-view-versus-a-copy\n",
      "  df.Region_Name.iloc[i] = 'West'\n"
     ]
    }
   ],
   "source": [
    "for i in range(df.shape[0]):\n",
    "    if df.Region_Name.iloc[i] == 'X':\n",
    "        df.Region_Name.iloc[i] = 'West'"
   ]
  },
  {
   "cell_type": "code",
   "execution_count": 65,
   "id": "49f4de87",
   "metadata": {},
   "outputs": [
    {
     "name": "stderr",
     "output_type": "stream",
     "text": [
      "C:\\Users\\akshayd6\\Anaconda3\\lib\\site-packages\\seaborn\\_decorators.py:36: FutureWarning: Pass the following variable as a keyword arg: x. From version 0.12, the only valid positional argument will be `data`, and passing other arguments without an explicit keyword will result in an error or misinterpretation.\n",
      "  warnings.warn(\n"
     ]
    },
    {
     "data": {
      "text/plain": [
       "<AxesSubplot:xlabel='Region_Name', ylabel='count'>"
      ]
     },
     "execution_count": 65,
     "metadata": {},
     "output_type": "execute_result"
    },
    {
     "data": {
      "image/png": "[encoded data removed]",
      "text/plain": [
       "<Figure size 1080x360 with 1 Axes>"
      ]
     },
     "metadata": {
      "needs_background": "light"
     },
     "output_type": "display_data"
    }
   ],
   "source": [
    "plt.figure(figsize = (15,5))\n",
    "sns.countplot(df.Region_Name)"
   ]
  },
  {
   "cell_type": "code",
   "execution_count": 66,
   "id": "ed58b02c",
   "metadata": {
    "scrolled": true
   },
   "outputs": [
    {
     "data": {
      "text/html": [
       "<div>\n",
       "<style scoped>\n",
       "    .dataframe tbody tr th:only-of-type {\n",
       "        vertical-align: middle;\n",
       "    }\n",
       "\n",
       "    .dataframe tbody tr th {\n",
       "        vertical-align: top;\n",
       "    }\n",
       "\n",
       "    .dataframe thead th {\n",
       "        text-align: right;\n",
       "    }\n",
       "</style>\n",
       "<table border=\"1\" class=\"dataframe\">\n",
       "  <thead>\n",
       "    <tr style=\"text-align: right;\">\n",
       "      <th></th>\n",
       "      <th>age</th>\n",
       "      <th>job</th>\n",
       "      <th>marital</th>\n",
       "      <th>education</th>\n",
       "      <th>default</th>\n",
       "      <th>housing</th>\n",
       "      <th>loan</th>\n",
       "      <th>employee_variation_rate</th>\n",
       "      <th>consumer_price_index</th>\n",
       "      <th>consumer_confidence_index</th>\n",
       "      <th>euribor</th>\n",
       "      <th>number_employed</th>\n",
       "      <th>contact</th>\n",
       "      <th>Campaign_month</th>\n",
       "      <th>day_of_week</th>\n",
       "      <th>duration</th>\n",
       "      <th>campaign</th>\n",
       "      <th>pdays</th>\n",
       "      <th>previous</th>\n",
       "      <th>poutcome</th>\n",
       "      <th>y</th>\n",
       "      <th>Postal Code</th>\n",
       "      <th>State_Name</th>\n",
       "      <th>City_Name</th>\n",
       "      <th>Region_Name</th>\n",
       "    </tr>\n",
       "    <tr>\n",
       "      <th>Customer_id</th>\n",
       "      <th></th>\n",
       "      <th></th>\n",
       "      <th></th>\n",
       "      <th></th>\n",
       "      <th></th>\n",
       "      <th></th>\n",
       "      <th></th>\n",
       "      <th></th>\n",
       "      <th></th>\n",
       "      <th></th>\n",
       "      <th></th>\n",
       "      <th></th>\n",
       "      <th></th>\n",
       "      <th></th>\n",
       "      <th></th>\n",
       "      <th></th>\n",
       "      <th></th>\n",
       "      <th></th>\n",
       "      <th></th>\n",
       "      <th></th>\n",
       "      <th></th>\n",
       "      <th></th>\n",
       "      <th></th>\n",
       "      <th></th>\n",
       "      <th></th>\n",
       "    </tr>\n",
       "  </thead>\n",
       "  <tbody>\n",
       "    <tr>\n",
       "      <th>1</th>\n",
       "      <td>56</td>\n",
       "      <td>services</td>\n",
       "      <td>married</td>\n",
       "      <td>high school</td>\n",
       "      <td>no</td>\n",
       "      <td>no</td>\n",
       "      <td>yes</td>\n",
       "      <td>1.1</td>\n",
       "      <td>93.994</td>\n",
       "      <td>-36.4</td>\n",
       "      <td>4.857</td>\n",
       "      <td>5191.0</td>\n",
       "      <td>telephone</td>\n",
       "      <td>may</td>\n",
       "      <td>mon</td>\n",
       "      <td>307</td>\n",
       "      <td>1</td>\n",
       "      <td>999</td>\n",
       "      <td>0</td>\n",
       "      <td>nonexistent</td>\n",
       "      <td>no</td>\n",
       "      <td>42420</td>\n",
       "      <td>Kentucky</td>\n",
       "      <td>Henderson</td>\n",
       "      <td>South</td>\n",
       "    </tr>\n",
       "    <tr>\n",
       "      <th>2</th>\n",
       "      <td>45</td>\n",
       "      <td>services</td>\n",
       "      <td>married</td>\n",
       "      <td>basic 9y</td>\n",
       "      <td>unknown</td>\n",
       "      <td>no</td>\n",
       "      <td>no</td>\n",
       "      <td>1.1</td>\n",
       "      <td>93.994</td>\n",
       "      <td>-36.4</td>\n",
       "      <td>4.857</td>\n",
       "      <td>5191.0</td>\n",
       "      <td>telephone</td>\n",
       "      <td>may</td>\n",
       "      <td>mon</td>\n",
       "      <td>198</td>\n",
       "      <td>1</td>\n",
       "      <td>999</td>\n",
       "      <td>0</td>\n",
       "      <td>nonexistent</td>\n",
       "      <td>no</td>\n",
       "      <td>42420</td>\n",
       "      <td>Kentucky</td>\n",
       "      <td>Henderson</td>\n",
       "      <td>South</td>\n",
       "    </tr>\n",
       "    <tr>\n",
       "      <th>3</th>\n",
       "      <td>59</td>\n",
       "      <td>admin</td>\n",
       "      <td>married</td>\n",
       "      <td>professional course</td>\n",
       "      <td>no</td>\n",
       "      <td>no</td>\n",
       "      <td>no</td>\n",
       "      <td>1.1</td>\n",
       "      <td>93.994</td>\n",
       "      <td>-36.4</td>\n",
       "      <td>4.857</td>\n",
       "      <td>5191.0</td>\n",
       "      <td>telephone</td>\n",
       "      <td>may</td>\n",
       "      <td>mon</td>\n",
       "      <td>139</td>\n",
       "      <td>1</td>\n",
       "      <td>999</td>\n",
       "      <td>0</td>\n",
       "      <td>nonexistent</td>\n",
       "      <td>no</td>\n",
       "      <td>90036</td>\n",
       "      <td>California</td>\n",
       "      <td>Los Angeles</td>\n",
       "      <td>West</td>\n",
       "    </tr>\n",
       "    <tr>\n",
       "      <th>4</th>\n",
       "      <td>41</td>\n",
       "      <td>blue collar</td>\n",
       "      <td>married</td>\n",
       "      <td>university degree</td>\n",
       "      <td>unknown</td>\n",
       "      <td>no</td>\n",
       "      <td>no</td>\n",
       "      <td>1.1</td>\n",
       "      <td>93.994</td>\n",
       "      <td>-36.4</td>\n",
       "      <td>4.857</td>\n",
       "      <td>5191.0</td>\n",
       "      <td>telephone</td>\n",
       "      <td>may</td>\n",
       "      <td>mon</td>\n",
       "      <td>217</td>\n",
       "      <td>1</td>\n",
       "      <td>999</td>\n",
       "      <td>0</td>\n",
       "      <td>nonexistent</td>\n",
       "      <td>no</td>\n",
       "      <td>33311</td>\n",
       "      <td>Florida</td>\n",
       "      <td>Fort Lauderdale</td>\n",
       "      <td>South</td>\n",
       "    </tr>\n",
       "    <tr>\n",
       "      <th>5</th>\n",
       "      <td>24</td>\n",
       "      <td>technician</td>\n",
       "      <td>single</td>\n",
       "      <td>professional course</td>\n",
       "      <td>no</td>\n",
       "      <td>yes</td>\n",
       "      <td>no</td>\n",
       "      <td>1.1</td>\n",
       "      <td>93.994</td>\n",
       "      <td>-36.4</td>\n",
       "      <td>4.857</td>\n",
       "      <td>5191.0</td>\n",
       "      <td>telephone</td>\n",
       "      <td>may</td>\n",
       "      <td>mon</td>\n",
       "      <td>380</td>\n",
       "      <td>1</td>\n",
       "      <td>999</td>\n",
       "      <td>0</td>\n",
       "      <td>nonexistent</td>\n",
       "      <td>no</td>\n",
       "      <td>33311</td>\n",
       "      <td>Florida</td>\n",
       "      <td>Fort Lauderdale</td>\n",
       "      <td>South</td>\n",
       "    </tr>\n",
       "  </tbody>\n",
       "</table>\n",
       "</div>"
      ],
      "text/plain": [
       "             age          job  marital            education  default housing  \\\n",
       "Customer_id                                                                    \n",
       "1             56     services  married          high school       no      no   \n",
       "2             45     services  married            basic 9y   unknown      no   \n",
       "3             59        admin  married  professional course       no      no   \n",
       "4             41  blue collar  married    university degree  unknown      no   \n",
       "5             24   technician   single  professional course       no     yes   \n",
       "\n",
       "            loan  employee_variation_rate  consumer_price_index  \\\n",
       "Customer_id                                                       \n",
       "1            yes                      1.1                93.994   \n",
       "2             no                      1.1                93.994   \n",
       "3             no                      1.1                93.994   \n",
       "4             no                      1.1                93.994   \n",
       "5             no                      1.1                93.994   \n",
       "\n",
       "             consumer_confidence_index  euribor  number_employed    contact  \\\n",
       "Customer_id                                                                   \n",
       "1                                -36.4    4.857           5191.0  telephone   \n",
       "2                                -36.4    4.857           5191.0  telephone   \n",
       "3                                -36.4    4.857           5191.0  telephone   \n",
       "4                                -36.4    4.857           5191.0  telephone   \n",
       "5                                -36.4    4.857           5191.0  telephone   \n",
       "\n",
       "            Campaign_month day_of_week  duration  campaign  pdays  previous  \\\n",
       "Customer_id                                                                   \n",
       "1                      may         mon       307         1    999         0   \n",
       "2                      may         mon       198         1    999         0   \n",
       "3                      may         mon       139         1    999         0   \n",
       "4                      may         mon       217         1    999         0   \n",
       "5                      may         mon       380         1    999         0   \n",
       "\n",
       "                poutcome   y  Postal Code  State_Name        City_Name  \\\n",
       "Customer_id                                                              \n",
       "1            nonexistent  no        42420    Kentucky        Henderson   \n",
       "2            nonexistent  no        42420    Kentucky        Henderson   \n",
       "3            nonexistent  no        90036  California      Los Angeles   \n",
       "4            nonexistent  no        33311     Florida  Fort Lauderdale   \n",
       "5            nonexistent  no        33311     Florida  Fort Lauderdale   \n",
       "\n",
       "            Region_Name  \n",
       "Customer_id              \n",
       "1                 South  \n",
       "2                 South  \n",
       "3                  West  \n",
       "4                 South  \n",
       "5                 South  "
      ]
     },
     "execution_count": 66,
     "metadata": {},
     "output_type": "execute_result"
    }
   ],
   "source": [
    "df.head()"
   ]
  },
  {
   "cell_type": "code",
   "execution_count": 75,
   "id": "22dce842",
   "metadata": {},
   "outputs": [],
   "source": [
    "df.to_csv('Cleaned Data.csv')"
   ]
  },
  {
   "cell_type": "code",
   "execution_count": null,
   "id": "0b697f45",
   "metadata": {},
   "outputs": [],
   "source": []
  }
 ],
 "metadata": {
  "kernelspec": {
   "display_name": "Python 3 (ipykernel)",
   "language": "python",
   "name": "python3"
  },
  "language_info": {
   "codemirror_mode": {
    "name": "ipython",
    "version": 3
   },
   "file_extension": ".py",
   "mimetype": "text/x-python",
   "name": "python",
   "nbconvert_exporter": "python",
   "pygments_lexer": "ipython3",
   "version": "3.9.12"
  }
 },
 "nbformat": 4,
 "nbformat_minor": 5
}
